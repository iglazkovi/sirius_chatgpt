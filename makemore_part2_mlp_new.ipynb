{
  "cells": [
    {
      "cell_type": "code",
      "execution_count": 767,
      "metadata": {
        "id": "p2ZIN09EgRE8"
      },
      "outputs": [],
      "source": [
        "import torch\n",
        "import torch.nn.functional as F\n",
        "import matplotlib.pyplot as plt # for making figures\n",
        "%matplotlib inline"
      ]
    },
    {
      "cell_type": "code",
      "execution_count": 768,
      "metadata": {
        "colab": {
          "base_uri": "https://localhost:8080/"
        },
        "id": "o87qz4BOgRE_",
        "outputId": "16d1da43-f9a9-4f75-c174-4a107bd516d9"
      },
      "outputs": [
        {
          "output_type": "execute_result",
          "data": {
            "text/plain": [
              "['аарон',\n",
              " 'аба',\n",
              " 'аббас',\n",
              " 'абд аль-узза',\n",
              " 'абдуллах',\n",
              " 'абид',\n",
              " 'аботур',\n",
              " 'аввакум']"
            ]
          },
          "metadata": {},
          "execution_count": 768
        }
      ],
      "source": [
        "# read in all the words\n",
        "words = [x.lower() for x in list(open('male_names_rus.txt', 'r').read().splitlines())]\n",
        "words[:8]"
      ]
    },
    {
      "cell_type": "code",
      "execution_count": 769,
      "metadata": {
        "colab": {
          "base_uri": "https://localhost:8080/"
        },
        "id": "bfMDZQ7IgRFA",
        "outputId": "60d7868b-b5eb-4e48-b0d3-ec569bc2098e"
      },
      "outputs": [
        {
          "output_type": "execute_result",
          "data": {
            "text/plain": [
              "736"
            ]
          },
          "metadata": {},
          "execution_count": 769
        }
      ],
      "source": [
        "len(words)"
      ]
    },
    {
      "cell_type": "code",
      "execution_count": 770,
      "metadata": {
        "colab": {
          "base_uri": "https://localhost:8080/"
        },
        "id": "bYcX2UwpgRFB",
        "outputId": "62958354-102e-4239-b86c-001ee23ea435"
      },
      "outputs": [
        {
          "output_type": "stream",
          "name": "stdout",
          "text": [
            "{1: ' ', 2: '-', 3: 'а', 4: 'б', 5: 'в', 6: 'г', 7: 'д', 8: 'е', 9: 'ж', 10: 'з', 11: 'и', 12: 'й', 13: 'к', 14: 'л', 15: 'м', 16: 'н', 17: 'о', 18: 'п', 19: 'р', 20: 'с', 21: 'т', 22: 'у', 23: 'ф', 24: 'х', 25: 'ц', 26: 'ч', 27: 'ш', 28: 'ы', 29: 'ь', 30: 'э', 31: 'ю', 32: 'я', 33: 'ё', 0: '.'}\n"
          ]
        }
      ],
      "source": [
        "# build the vocabulary of characters and mappings to/from integers\n",
        "chars = sorted(list(set(''.join(words))))\n",
        "stoi = {s:i+1 for i,s in enumerate(chars)}\n",
        "stoi['.'] = 0\n",
        "itos = {i:s for s,i in stoi.items()}\n",
        "print(itos)"
      ]
    },
    {
      "cell_type": "code",
      "execution_count": 771,
      "metadata": {
        "id": "PWW4Hq5zgRFB"
      },
      "outputs": [],
      "source": [
        "# build the dataset\n",
        "\n",
        "block_size = 3 # context length: how many characters do we take to predict the next one?\n",
        "X, Y = [], []\n",
        "for w in words:\n",
        "\n",
        "  #print(w)\n",
        "  context = [0] * block_size\n",
        "  for ch in w + '.':\n",
        "    ix = stoi[ch]\n",
        "    X.append(context)\n",
        "    Y.append(ix)\n",
        "    #print(''.join(itos[i] for i in context), '--->', itos[ix])\n",
        "    context = context[1:] + [ix] # crop and append\n",
        "\n",
        "X = torch.tensor(X)\n",
        "Y = torch.tensor(Y)"
      ]
    },
    {
      "cell_type": "code",
      "execution_count": 772,
      "metadata": {
        "colab": {
          "base_uri": "https://localhost:8080/"
        },
        "id": "JypVJTIIgRFB",
        "outputId": "1f971e5e-9f78-4be2-9434-650e08cd6d4e"
      },
      "outputs": [
        {
          "output_type": "execute_result",
          "data": {
            "text/plain": [
              "(torch.Size([5285, 3]), torch.int64, torch.Size([5285]), torch.int64)"
            ]
          },
          "metadata": {},
          "execution_count": 772
        }
      ],
      "source": [
        "X.shape, X.dtype, Y.shape, Y.dtype"
      ]
    },
    {
      "cell_type": "code",
      "execution_count": 773,
      "metadata": {
        "colab": {
          "base_uri": "https://localhost:8080/"
        },
        "id": "XudFWmjOgRFC",
        "outputId": "3b987e40-de2b-478d-aca9-8bd88ed809a1"
      },
      "outputs": [
        {
          "output_type": "stream",
          "name": "stdout",
          "text": [
            "torch.Size([4206, 3]) torch.Size([4206])\n",
            "torch.Size([550, 3]) torch.Size([550])\n",
            "torch.Size([529, 3]) torch.Size([529])\n"
          ]
        }
      ],
      "source": [
        "# build the dataset\n",
        "block_size = 3 # context length: how many characters do we take to predict the next one?\n",
        "\n",
        "def build_dataset(words):\n",
        "  X, Y = [], []\n",
        "  for w in words:\n",
        "\n",
        "    #print(w)\n",
        "    context = [0] * block_size\n",
        "    for ch in w + '.':\n",
        "      ix = stoi[ch]\n",
        "      X.append(context)\n",
        "      Y.append(ix)\n",
        "      #print(''.join(itos[i] for i in context), '--->', itos[ix])\n",
        "      context = context[1:] + [ix] # crop and append\n",
        "\n",
        "  X = torch.tensor(X)\n",
        "  Y = torch.tensor(Y)\n",
        "  print(X.shape, Y.shape)\n",
        "  return X, Y\n",
        "\n",
        "import random\n",
        "random.seed(42)\n",
        "random.shuffle(words)\n",
        "n1 = int(0.8*len(words))\n",
        "n2 = int(0.9*len(words))\n",
        "\n",
        "Xtr, Ytr = build_dataset(words[:n1])\n",
        "Xdev, Ydev = build_dataset(words[n1:n2])\n",
        "Xte, Yte = build_dataset(words[n2:])\n"
      ]
    },
    {
      "cell_type": "code",
      "source": [
        "g = torch.Generator().manual_seed(52) # for reproducibility\n",
        "class Linear():\n",
        "  def __init__(self, input_n, output_n, bias=True):\n",
        "    self.W = torch.randn((input_n, output_n), generator=g)\n",
        "    if bias:\n",
        "      self.b = torch.randn(output_n, generator=g)\n",
        "    else:\n",
        "      self.b = torch.zeros(output_n)\n",
        "    self.W.requires_grad = True\n",
        "    self.b.requires_grad = True\n",
        "  def __call__(self, x):\n",
        "    return x @ self.W + self.b"
      ],
      "metadata": {
        "id": "58Z1I0uF-ZkV"
      },
      "execution_count": 774,
      "outputs": []
    },
    {
      "cell_type": "code",
      "source": [
        "class Net():\n",
        "  def __init__(self, input_n, output_n):\n",
        "    self.l1 = Linear(input_n, 256)\n",
        "    self.f1 = torch.tanh\n",
        "    self.l2 = Linear(256, 256)\n",
        "    self.f2 = torch.tanh\n",
        "    self.l3 = Linear(256, 128)\n",
        "    self.f3 = torch.tanh\n",
        "    self.l4 = Linear(128, 128)\n",
        "    self.f4 = torch.tanh\n",
        "    self.l5 = Linear(128, 64)\n",
        "    self.f5 = torch.tanh\n",
        "    self.l6 = Linear(64, 34)\n",
        "    self.funcs = [self.l1, self.f1, self.l2, self.f2, self.l3, self.f3, self.l4, self.f4, self.l5, self.f5, self.l6]\n",
        "  def forward(self, x):\n",
        "    for func in self.funcs:\n",
        "      x = func(x)\n",
        "    return x"
      ],
      "metadata": {
        "id": "dCbVoHe7AHch"
      },
      "execution_count": 775,
      "outputs": []
    },
    {
      "cell_type": "code",
      "source": [
        "C = torch.randn((34, 10), generator=g)\n",
        "net = Net(30, 34)"
      ],
      "metadata": {
        "id": "bGmL73F5Bi45"
      },
      "execution_count": 776,
      "outputs": []
    },
    {
      "cell_type": "code",
      "source": [
        "lre = torch.linspace(-3, 0, 1000)\n",
        "lrs = 10**lre"
      ],
      "metadata": {
        "id": "U-QOb-16Bm3F"
      },
      "execution_count": 777,
      "outputs": []
    },
    {
      "cell_type": "code",
      "source": [
        "lri = []\n",
        "lossi = []\n",
        "stepi = []\n",
        "lossi_train = []"
      ],
      "metadata": {
        "id": "LkvE6E8eBzu_"
      },
      "execution_count": 778,
      "outputs": []
    },
    {
      "cell_type": "code",
      "source": [
        "for i in range(20000):\n",
        "\n",
        "  # minibatch construct\n",
        "  ix = torch.randint(0, Xtr.shape[0], (16,))\n",
        "\n",
        "  # forward pass\n",
        "  emb = C[Xtr[ix]]\n",
        "  logits = net.forward(emb.view(-1, 30))\n",
        "  loss = F.cross_entropy(logits, Ytr[ix])\n",
        "  #print(loss.item())\n",
        "\n",
        "  # backward pass\n",
        "  for p in net.funcs:\n",
        "    try:\n",
        "      p.W.grad = None\n",
        "      p.b.grad = None\n",
        "    except:\n",
        "      pass\n",
        "  loss.backward()\n",
        "\n",
        "  # update\n",
        "  #lr = lrs[i]\n",
        "  lr = 0.1 if i < 100000 else 0.01\n",
        "  for p in net.funcs:\n",
        "    try:\n",
        "      p.W.data += -lr * p.W.grad\n",
        "      p.b.data += -lr * p.b.grad\n",
        "    except:\n",
        "      pass\n",
        "\n",
        "  # track stats\n",
        "  #lri.append(lre[i])\n",
        "  if i % 100 == 0:\n",
        "    ix = torch.randint(0, Xte.shape[0], (2048,))\n",
        "    emb = C[Xte[ix]]\n",
        "    logits = net.forward(emb.view(-1, 30))\n",
        "    loss_test = F.cross_entropy(logits, Yte[ix])\n",
        "    stepi.append(i)\n",
        "    lossi.append(loss_test.log10().item())\n",
        "    lossi_train.append(loss.log10().item())\n",
        "    print(f\"Epoch: {i}; Loss_train: {loss.item()}; Loss_test: {loss_test.item()}\")\n",
        "\n",
        "#print(loss.item())"
      ],
      "metadata": {
        "colab": {
          "base_uri": "https://localhost:8080/"
        },
        "id": "xhgXhyGaB3d9",
        "outputId": "01c6ffb0-96bb-4c42-a512-bb04274cd58f"
      },
      "execution_count": 779,
      "outputs": [
        {
          "output_type": "stream",
          "name": "stdout",
          "text": [
            "Epoch: 0; Loss_train: 16.34247398376465; Loss_test: 15.340606689453125\n",
            "Epoch: 100; Loss_train: 8.463848114013672; Loss_test: 8.391641616821289\n",
            "Epoch: 200; Loss_train: 4.487124919891357; Loss_test: 6.414804458618164\n",
            "Epoch: 300; Loss_train: 5.618846416473389; Loss_test: 5.335936069488525\n",
            "Epoch: 400; Loss_train: 4.540241241455078; Loss_test: 4.71715784072876\n",
            "Epoch: 500; Loss_train: 3.7658047676086426; Loss_test: 4.3599534034729\n",
            "Epoch: 600; Loss_train: 4.598803520202637; Loss_test: 4.047466278076172\n",
            "Epoch: 700; Loss_train: 3.5033833980560303; Loss_test: 4.1036882400512695\n",
            "Epoch: 800; Loss_train: 3.9640066623687744; Loss_test: 3.985469341278076\n",
            "Epoch: 900; Loss_train: 3.1012802124023438; Loss_test: 3.8196237087249756\n",
            "Epoch: 1000; Loss_train: 3.875452995300293; Loss_test: 3.660849094390869\n",
            "Epoch: 1100; Loss_train: 2.327709197998047; Loss_test: 3.476576805114746\n",
            "Epoch: 1200; Loss_train: 3.344850778579712; Loss_test: 3.3574445247650146\n",
            "Epoch: 1300; Loss_train: 3.4523768424987793; Loss_test: 3.556525230407715\n",
            "Epoch: 1400; Loss_train: 3.3907570838928223; Loss_test: 3.4132637977600098\n",
            "Epoch: 1500; Loss_train: 2.9921624660491943; Loss_test: 3.503908634185791\n",
            "Epoch: 1600; Loss_train: 3.2197749614715576; Loss_test: 3.4479222297668457\n",
            "Epoch: 1700; Loss_train: 2.3178346157073975; Loss_test: 3.3979039192199707\n",
            "Epoch: 1800; Loss_train: 3.095283031463623; Loss_test: 3.381549119949341\n",
            "Epoch: 1900; Loss_train: 3.2652270793914795; Loss_test: 3.2699432373046875\n",
            "Epoch: 2000; Loss_train: 2.5932817459106445; Loss_test: 3.321823835372925\n",
            "Epoch: 2100; Loss_train: 4.242867469787598; Loss_test: 3.2871763706207275\n",
            "Epoch: 2200; Loss_train: 2.3208167552948; Loss_test: 3.29128098487854\n",
            "Epoch: 2300; Loss_train: 2.1923015117645264; Loss_test: 3.278315305709839\n",
            "Epoch: 2400; Loss_train: 3.5965652465820312; Loss_test: 3.1575913429260254\n",
            "Epoch: 2500; Loss_train: 2.7618165016174316; Loss_test: 3.0727896690368652\n",
            "Epoch: 2600; Loss_train: 3.2717485427856445; Loss_test: 3.1662352085113525\n",
            "Epoch: 2700; Loss_train: 2.9661903381347656; Loss_test: 3.2543303966522217\n",
            "Epoch: 2800; Loss_train: 2.5900182723999023; Loss_test: 3.1128077507019043\n",
            "Epoch: 2900; Loss_train: 2.5942277908325195; Loss_test: 3.1090402603149414\n",
            "Epoch: 3000; Loss_train: 3.1686508655548096; Loss_test: 3.272822618484497\n",
            "Epoch: 3100; Loss_train: 3.2583327293395996; Loss_test: 3.164402723312378\n",
            "Epoch: 3200; Loss_train: 2.8225278854370117; Loss_test: 3.042694330215454\n",
            "Epoch: 3300; Loss_train: 2.9596753120422363; Loss_test: 3.082300901412964\n",
            "Epoch: 3400; Loss_train: 3.29781436920166; Loss_test: 3.0665626525878906\n",
            "Epoch: 3500; Loss_train: 2.368403434753418; Loss_test: 3.1323647499084473\n",
            "Epoch: 3600; Loss_train: 2.523397922515869; Loss_test: 3.118985652923584\n",
            "Epoch: 3700; Loss_train: 3.0104713439941406; Loss_test: 3.1017374992370605\n",
            "Epoch: 3800; Loss_train: 2.846454620361328; Loss_test: 3.1345880031585693\n",
            "Epoch: 3900; Loss_train: 3.521089553833008; Loss_test: 2.9968972206115723\n",
            "Epoch: 4000; Loss_train: 2.445986270904541; Loss_test: 3.08304500579834\n",
            "Epoch: 4100; Loss_train: 2.3221399784088135; Loss_test: 3.159688711166382\n",
            "Epoch: 4200; Loss_train: 2.6488265991210938; Loss_test: 3.094642162322998\n",
            "Epoch: 4300; Loss_train: 2.573058605194092; Loss_test: 3.0905134677886963\n",
            "Epoch: 4400; Loss_train: 2.721644163131714; Loss_test: 3.0318410396575928\n",
            "Epoch: 4500; Loss_train: 2.2036070823669434; Loss_test: 3.0746986865997314\n",
            "Epoch: 4600; Loss_train: 2.4862725734710693; Loss_test: 2.994525909423828\n",
            "Epoch: 4700; Loss_train: 2.232160806655884; Loss_test: 3.0560126304626465\n",
            "Epoch: 4800; Loss_train: 3.4638774394989014; Loss_test: 3.1140451431274414\n",
            "Epoch: 4900; Loss_train: 2.7487869262695312; Loss_test: 3.116241931915283\n",
            "Epoch: 5000; Loss_train: 3.129852294921875; Loss_test: 2.986433267593384\n",
            "Epoch: 5100; Loss_train: 2.8313472270965576; Loss_test: 3.0347259044647217\n",
            "Epoch: 5200; Loss_train: 2.7175424098968506; Loss_test: 3.06939959526062\n",
            "Epoch: 5300; Loss_train: 2.651979684829712; Loss_test: 3.0014309883117676\n",
            "Epoch: 5400; Loss_train: 3.043280601501465; Loss_test: 3.0847136974334717\n",
            "Epoch: 5500; Loss_train: 2.492488384246826; Loss_test: 2.977435827255249\n",
            "Epoch: 5600; Loss_train: 2.8416571617126465; Loss_test: 2.9454784393310547\n",
            "Epoch: 5700; Loss_train: 2.6815154552459717; Loss_test: 3.028529644012451\n",
            "Epoch: 5800; Loss_train: 2.6780922412872314; Loss_test: 3.0936830043792725\n",
            "Epoch: 5900; Loss_train: 2.809133529663086; Loss_test: 3.05587100982666\n",
            "Epoch: 6000; Loss_train: 3.085447072982788; Loss_test: 3.016908884048462\n",
            "Epoch: 6100; Loss_train: 2.5023562908172607; Loss_test: 3.0281455516815186\n",
            "Epoch: 6200; Loss_train: 2.5050952434539795; Loss_test: 2.9080898761749268\n",
            "Epoch: 6300; Loss_train: 3.3138465881347656; Loss_test: 3.018019199371338\n",
            "Epoch: 6400; Loss_train: 2.019225597381592; Loss_test: 3.026139974594116\n",
            "Epoch: 6500; Loss_train: 2.7478814125061035; Loss_test: 2.8705949783325195\n",
            "Epoch: 6600; Loss_train: 2.564300537109375; Loss_test: 2.904384136199951\n",
            "Epoch: 6700; Loss_train: 2.0382745265960693; Loss_test: 2.942911148071289\n",
            "Epoch: 6800; Loss_train: 2.8567402362823486; Loss_test: 2.968390941619873\n",
            "Epoch: 6900; Loss_train: 2.9445855617523193; Loss_test: 2.9800965785980225\n",
            "Epoch: 7000; Loss_train: 2.251769781112671; Loss_test: 2.962893009185791\n",
            "Epoch: 7100; Loss_train: 2.5986056327819824; Loss_test: 2.950463056564331\n",
            "Epoch: 7200; Loss_train: 2.8065433502197266; Loss_test: 2.9209070205688477\n",
            "Epoch: 7300; Loss_train: 2.6616227626800537; Loss_test: 2.948275327682495\n",
            "Epoch: 7400; Loss_train: 2.639446973800659; Loss_test: 2.9129581451416016\n",
            "Epoch: 7500; Loss_train: 3.104308605194092; Loss_test: 2.9326581954956055\n",
            "Epoch: 7600; Loss_train: 2.566305160522461; Loss_test: 2.970982789993286\n",
            "Epoch: 7700; Loss_train: 2.6685707569122314; Loss_test: 3.0485291481018066\n",
            "Epoch: 7800; Loss_train: 2.031215190887451; Loss_test: 2.910418748855591\n",
            "Epoch: 7900; Loss_train: 3.0246572494506836; Loss_test: 2.911141872406006\n",
            "Epoch: 8000; Loss_train: 2.5549755096435547; Loss_test: 3.0767104625701904\n",
            "Epoch: 8100; Loss_train: 2.50549578666687; Loss_test: 2.9261105060577393\n",
            "Epoch: 8200; Loss_train: 3.160374402999878; Loss_test: 2.972109794616699\n",
            "Epoch: 8300; Loss_train: 2.4857630729675293; Loss_test: 2.846944570541382\n",
            "Epoch: 8400; Loss_train: 2.9117345809936523; Loss_test: 2.931063413619995\n",
            "Epoch: 8500; Loss_train: 2.5329275131225586; Loss_test: 2.852324962615967\n",
            "Epoch: 8600; Loss_train: 2.8895702362060547; Loss_test: 2.8893604278564453\n",
            "Epoch: 8700; Loss_train: 3.298060894012451; Loss_test: 3.0038554668426514\n",
            "Epoch: 8800; Loss_train: 2.5418615341186523; Loss_test: 2.98974347114563\n",
            "Epoch: 8900; Loss_train: 2.7231318950653076; Loss_test: 3.0240931510925293\n",
            "Epoch: 9000; Loss_train: 2.4835171699523926; Loss_test: 2.8228437900543213\n",
            "Epoch: 9100; Loss_train: 3.284668445587158; Loss_test: 2.9813392162323\n",
            "Epoch: 9200; Loss_train: 2.492396354675293; Loss_test: 2.8958537578582764\n",
            "Epoch: 9300; Loss_train: 2.5583505630493164; Loss_test: 2.837709426879883\n",
            "Epoch: 9400; Loss_train: 2.929532289505005; Loss_test: 2.951441526412964\n",
            "Epoch: 9500; Loss_train: 2.886888265609741; Loss_test: 2.8746070861816406\n",
            "Epoch: 9600; Loss_train: 3.3723742961883545; Loss_test: 2.823925256729126\n",
            "Epoch: 9700; Loss_train: 2.6848645210266113; Loss_test: 2.9934585094451904\n",
            "Epoch: 9800; Loss_train: 2.355062246322632; Loss_test: 2.941927909851074\n",
            "Epoch: 9900; Loss_train: 2.7889766693115234; Loss_test: 3.023824691772461\n",
            "Epoch: 10000; Loss_train: 2.8570876121520996; Loss_test: 3.028233528137207\n",
            "Epoch: 10100; Loss_train: 2.9429728984832764; Loss_test: 2.929450273513794\n",
            "Epoch: 10200; Loss_train: 2.896700859069824; Loss_test: 3.0060131549835205\n",
            "Epoch: 10300; Loss_train: 2.7068629264831543; Loss_test: 2.9271743297576904\n",
            "Epoch: 10400; Loss_train: 2.2200088500976562; Loss_test: 2.9013290405273438\n",
            "Epoch: 10500; Loss_train: 2.6196107864379883; Loss_test: 2.9907138347625732\n",
            "Epoch: 10600; Loss_train: 2.84022855758667; Loss_test: 2.9125137329101562\n",
            "Epoch: 10700; Loss_train: 2.3379995822906494; Loss_test: 2.783137798309326\n",
            "Epoch: 10800; Loss_train: 3.0796384811401367; Loss_test: 2.8684840202331543\n",
            "Epoch: 10900; Loss_train: 2.3849101066589355; Loss_test: 2.963169574737549\n",
            "Epoch: 11000; Loss_train: 2.8263609409332275; Loss_test: 2.80325984954834\n",
            "Epoch: 11100; Loss_train: 2.7580103874206543; Loss_test: 2.8787333965301514\n",
            "Epoch: 11200; Loss_train: 2.7127575874328613; Loss_test: 2.9308409690856934\n",
            "Epoch: 11300; Loss_train: 2.2163918018341064; Loss_test: 2.8866238594055176\n",
            "Epoch: 11400; Loss_train: 2.8050169944763184; Loss_test: 2.889970064163208\n",
            "Epoch: 11500; Loss_train: 2.6741223335266113; Loss_test: 2.8908936977386475\n",
            "Epoch: 11600; Loss_train: 2.844403028488159; Loss_test: 2.893216848373413\n",
            "Epoch: 11700; Loss_train: 2.679302215576172; Loss_test: 2.847228527069092\n",
            "Epoch: 11800; Loss_train: 2.2860560417175293; Loss_test: 2.9885687828063965\n",
            "Epoch: 11900; Loss_train: 2.958620309829712; Loss_test: 2.919633150100708\n",
            "Epoch: 12000; Loss_train: 2.3569552898406982; Loss_test: 2.9781651496887207\n",
            "Epoch: 12100; Loss_train: 2.4632186889648438; Loss_test: 2.8997066020965576\n",
            "Epoch: 12200; Loss_train: 2.829725980758667; Loss_test: 2.900498390197754\n",
            "Epoch: 12300; Loss_train: 3.1190617084503174; Loss_test: 2.78067946434021\n",
            "Epoch: 12400; Loss_train: 3.2715096473693848; Loss_test: 2.900861978530884\n",
            "Epoch: 12500; Loss_train: 2.520631790161133; Loss_test: 2.87451171875\n",
            "Epoch: 12600; Loss_train: 2.506903886795044; Loss_test: 2.878826379776001\n",
            "Epoch: 12700; Loss_train: 2.1225075721740723; Loss_test: 2.898829698562622\n",
            "Epoch: 12800; Loss_train: 2.7537810802459717; Loss_test: 2.962346315383911\n",
            "Epoch: 12900; Loss_train: 2.7525432109832764; Loss_test: 2.8644227981567383\n",
            "Epoch: 13000; Loss_train: 2.78507137298584; Loss_test: 3.0038275718688965\n",
            "Epoch: 13100; Loss_train: 3.1473677158355713; Loss_test: 2.915090560913086\n",
            "Epoch: 13200; Loss_train: 3.46242094039917; Loss_test: 2.9215283393859863\n",
            "Epoch: 13300; Loss_train: 2.9147891998291016; Loss_test: 3.0300722122192383\n",
            "Epoch: 13400; Loss_train: 3.206408977508545; Loss_test: 2.873372793197632\n",
            "Epoch: 13500; Loss_train: 3.1340794563293457; Loss_test: 2.797792434692383\n",
            "Epoch: 13600; Loss_train: 2.6738343238830566; Loss_test: 2.9472744464874268\n",
            "Epoch: 13700; Loss_train: 2.752758502960205; Loss_test: 2.946713924407959\n",
            "Epoch: 13800; Loss_train: 2.0534753799438477; Loss_test: 2.8729426860809326\n",
            "Epoch: 13900; Loss_train: 3.0059316158294678; Loss_test: 2.8640403747558594\n",
            "Epoch: 14000; Loss_train: 2.9896345138549805; Loss_test: 2.8456273078918457\n",
            "Epoch: 14100; Loss_train: 2.3857874870300293; Loss_test: 2.802537441253662\n",
            "Epoch: 14200; Loss_train: 2.682492256164551; Loss_test: 2.8657031059265137\n",
            "Epoch: 14300; Loss_train: 2.2692911624908447; Loss_test: 2.9216878414154053\n",
            "Epoch: 14400; Loss_train: 2.5320191383361816; Loss_test: 2.837617874145508\n",
            "Epoch: 14500; Loss_train: 2.993344783782959; Loss_test: 2.8448798656463623\n",
            "Epoch: 14600; Loss_train: 2.565610885620117; Loss_test: 2.9334309101104736\n",
            "Epoch: 14700; Loss_train: 1.850228190422058; Loss_test: 2.8988306522369385\n",
            "Epoch: 14800; Loss_train: 2.9211173057556152; Loss_test: 2.8640942573547363\n",
            "Epoch: 14900; Loss_train: 2.9063239097595215; Loss_test: 2.89078426361084\n",
            "Epoch: 15000; Loss_train: 3.2370712757110596; Loss_test: 2.9803731441497803\n",
            "Epoch: 15100; Loss_train: 2.6602492332458496; Loss_test: 2.9008140563964844\n",
            "Epoch: 15200; Loss_train: 2.4718124866485596; Loss_test: 2.8699095249176025\n",
            "Epoch: 15300; Loss_train: 2.4063169956207275; Loss_test: 2.968940019607544\n",
            "Epoch: 15400; Loss_train: 2.354909658432007; Loss_test: 2.842104196548462\n",
            "Epoch: 15500; Loss_train: 2.9127888679504395; Loss_test: 2.8678503036499023\n",
            "Epoch: 15600; Loss_train: 2.526320219039917; Loss_test: 2.9812846183776855\n",
            "Epoch: 15700; Loss_train: 2.1070337295532227; Loss_test: 2.862020969390869\n",
            "Epoch: 15800; Loss_train: 2.7542526721954346; Loss_test: 2.9581716060638428\n",
            "Epoch: 15900; Loss_train: 3.371847152709961; Loss_test: 2.986286163330078\n",
            "Epoch: 16000; Loss_train: 2.445544481277466; Loss_test: 2.857361316680908\n",
            "Epoch: 16100; Loss_train: 2.90722393989563; Loss_test: 2.8312313556671143\n",
            "Epoch: 16200; Loss_train: 2.90218186378479; Loss_test: 2.886458158493042\n",
            "Epoch: 16300; Loss_train: 2.606099843978882; Loss_test: 2.861375093460083\n",
            "Epoch: 16400; Loss_train: 2.498927354812622; Loss_test: 2.8761847019195557\n",
            "Epoch: 16500; Loss_train: 2.8317489624023438; Loss_test: 2.869959831237793\n",
            "Epoch: 16600; Loss_train: 1.7756378650665283; Loss_test: 2.8581454753875732\n",
            "Epoch: 16700; Loss_train: 2.3114218711853027; Loss_test: 2.8834986686706543\n",
            "Epoch: 16800; Loss_train: 2.3806962966918945; Loss_test: 2.9673759937286377\n",
            "Epoch: 16900; Loss_train: 1.87196683883667; Loss_test: 2.9818592071533203\n",
            "Epoch: 17000; Loss_train: 2.8133907318115234; Loss_test: 2.931506395339966\n",
            "Epoch: 17100; Loss_train: 2.395845413208008; Loss_test: 2.9188284873962402\n",
            "Epoch: 17200; Loss_train: 2.6829280853271484; Loss_test: 2.9185171127319336\n",
            "Epoch: 17300; Loss_train: 2.434025526046753; Loss_test: 2.9951932430267334\n",
            "Epoch: 17400; Loss_train: 2.2995858192443848; Loss_test: 2.860382556915283\n",
            "Epoch: 17500; Loss_train: 2.3711209297180176; Loss_test: 2.8098931312561035\n",
            "Epoch: 17600; Loss_train: 2.5612332820892334; Loss_test: 2.801978349685669\n",
            "Epoch: 17700; Loss_train: 2.521697998046875; Loss_test: 2.9821910858154297\n",
            "Epoch: 17800; Loss_train: 2.184798240661621; Loss_test: 2.808105945587158\n",
            "Epoch: 17900; Loss_train: 2.9554388523101807; Loss_test: 2.8840653896331787\n",
            "Epoch: 18000; Loss_train: 2.9328832626342773; Loss_test: 2.88840913772583\n",
            "Epoch: 18100; Loss_train: 2.7073004245758057; Loss_test: 2.865800380706787\n",
            "Epoch: 18200; Loss_train: 1.873232364654541; Loss_test: 2.784695863723755\n",
            "Epoch: 18300; Loss_train: 2.462191343307495; Loss_test: 2.858196496963501\n",
            "Epoch: 18400; Loss_train: 2.8006274700164795; Loss_test: 2.928004503250122\n",
            "Epoch: 18500; Loss_train: 2.4378511905670166; Loss_test: 2.85709810256958\n",
            "Epoch: 18600; Loss_train: 2.6779375076293945; Loss_test: 2.8838984966278076\n",
            "Epoch: 18700; Loss_train: 2.6717169284820557; Loss_test: 2.921658754348755\n",
            "Epoch: 18800; Loss_train: 3.101299524307251; Loss_test: 2.908535957336426\n",
            "Epoch: 18900; Loss_train: 3.0384140014648438; Loss_test: 2.8514316082000732\n",
            "Epoch: 19000; Loss_train: 2.549948215484619; Loss_test: 2.8201494216918945\n",
            "Epoch: 19100; Loss_train: 2.5413401126861572; Loss_test: 2.886883020401001\n",
            "Epoch: 19200; Loss_train: 2.895280361175537; Loss_test: 2.7681400775909424\n",
            "Epoch: 19300; Loss_train: 2.233246326446533; Loss_test: 2.822422742843628\n",
            "Epoch: 19400; Loss_train: 2.445263624191284; Loss_test: 2.895761728286743\n",
            "Epoch: 19500; Loss_train: 2.7737157344818115; Loss_test: 2.8877432346343994\n",
            "Epoch: 19600; Loss_train: 2.7254812717437744; Loss_test: 2.8444597721099854\n",
            "Epoch: 19700; Loss_train: 1.6339397430419922; Loss_test: 2.914541006088257\n",
            "Epoch: 19800; Loss_train: 2.4977874755859375; Loss_test: 2.8441903591156006\n",
            "Epoch: 19900; Loss_train: 2.40283465385437; Loss_test: 2.9086387157440186\n"
          ]
        }
      ]
    },
    {
      "cell_type": "code",
      "execution_count": 787,
      "metadata": {
        "colab": {
          "base_uri": "https://localhost:8080/",
          "height": 448
        },
        "id": "DwcuNrGxgRFK",
        "outputId": "56e151bc-2a50-4324-c921-e1fb86599c1d"
      },
      "outputs": [
        {
          "output_type": "execute_result",
          "data": {
            "text/plain": [
              "[<matplotlib.lines.Line2D at 0x79adcd7eb0a0>]"
            ]
          },
          "metadata": {},
          "execution_count": 787
        },
        {
          "output_type": "display_data",
          "data": {
            "text/plain": [
              "<Figure size 640x480 with 1 Axes>"
            ],
            "image/png": "[encoded data removed]"
          },
          "metadata": {}
        }
      ],
      "source": [
        "plt.plot(stepi, lossi, color='red')\n",
        "plt.plot(stepi, lossi_train, color='green')"
      ]
    },
    {
      "cell_type": "code",
      "execution_count": 788,
      "metadata": {
        "colab": {
          "base_uri": "https://localhost:8080/"
        },
        "id": "ndnXXqBIgRFK",
        "outputId": "96306f04-68a1-4c79-8a32-a5d806636ea6"
      },
      "outputs": [
        {
          "output_type": "execute_result",
          "data": {
            "text/plain": [
              "tensor(2.4866, grad_fn=<NllLossBackward0>)"
            ]
          },
          "metadata": {},
          "execution_count": 788
        }
      ],
      "source": [
        "emb = C[Xtr]\n",
        "logits = net.forward(emb.view(-1, 30))\n",
        "loss = F.cross_entropy(logits, Ytr)\n",
        "loss"
      ]
    },
    {
      "cell_type": "code",
      "execution_count": 790,
      "metadata": {
        "colab": {
          "base_uri": "https://localhost:8080/"
        },
        "id": "PLRZkIZDgRFL",
        "outputId": "14a2a9ba-e836-416e-aeb8-0734466667b5"
      },
      "outputs": [
        {
          "output_type": "execute_result",
          "data": {
            "text/plain": [
              "tensor(2.9507, grad_fn=<NllLossBackward0>)"
            ]
          },
          "metadata": {},
          "execution_count": 790
        }
      ],
      "source": [
        "emb = C[Xdev]\n",
        "logits = net.forward(emb.view(-1, 30))\n",
        "loss = F.cross_entropy(logits, Ydev)\n",
        "loss"
      ]
    },
    {
      "cell_type": "code",
      "execution_count": 791,
      "metadata": {
        "colab": {
          "base_uri": "https://localhost:8080/",
          "height": 676
        },
        "id": "N26QnylagRFL",
        "outputId": "5fe128e6-6d37-44bb-e6bf-d19713194849"
      },
      "outputs": [
        {
          "output_type": "display_data",
          "data": {
            "text/plain": [
              "<Figure size 800x800 with 1 Axes>"
            ],
            "image/png": "[encoded data removed]"
          },
          "metadata": {}
        }
      ],
      "source": [
        "# visualize dimensions 0 and 1 of the embedding matrix C for all characters\n",
        "plt.figure(figsize=(8,8))\n",
        "plt.scatter(C[:,0].data, C[:,1].data, s=200)\n",
        "for i in range(C.shape[0]):\n",
        "    plt.text(C[i,0].item(), C[i,1].item(), itos[i], ha=\"center\", va=\"center\", color='white')\n",
        "plt.grid('minor')"
      ]
    },
    {
      "cell_type": "code",
      "execution_count": 792,
      "metadata": {
        "id": "Sn6ztbyOgRFM"
      },
      "outputs": [],
      "source": [
        "# training split, dev/validation split, test split\n",
        "# 80%, 10%, 10%"
      ]
    },
    {
      "cell_type": "code",
      "execution_count": 793,
      "metadata": {
        "colab": {
          "base_uri": "https://localhost:8080/"
        },
        "id": "gKQCp1uegRFM",
        "outputId": "58d07414-571f-4422-bdfd-c57a6e01b4dc"
      },
      "outputs": [
        {
          "output_type": "execute_result",
          "data": {
            "text/plain": [
              "torch.Size([1, 3, 10])"
            ]
          },
          "metadata": {},
          "execution_count": 793
        }
      ],
      "source": [
        "context = [0] * block_size\n",
        "C[torch.tensor([context])].shape"
      ]
    },
    {
      "cell_type": "code",
      "execution_count": 794,
      "metadata": {
        "colab": {
          "base_uri": "https://localhost:8080/"
        },
        "id": "zOcFMBIigRFN",
        "outputId": "1fecf4d7-bd6b-46e4-92cb-162b45b9a391"
      },
      "outputs": [
        {
          "output_type": "stream",
          "name": "stdout",
          "text": [
            "стеваер.\n",
            "ват.\n",
            "асдхе.\n",
            "ано.\n",
            "сед.\n",
            "станлин.\n",
            "кжсшьнаа.\n",
            "тарас.\n",
            "саварсеисфвчмон.\n",
            "судаетанаа.\n",
            "генв.\n",
            "истанрбари.\n",
            "элисойватьй.\n",
            "лол.\n",
            "колино.\n",
            "ванримн.\n",
            "ас.\n",
            "рдклаттефам.\n",
            "тукек.\n",
            "уникерсбвыуний.\n"
          ]
        }
      ],
      "source": [
        "\n",
        "\n",
        "# sample from the model\n",
        "g = torch.Generator().manual_seed(1)\n",
        "\n",
        "for _ in range(20):\n",
        "\n",
        "    out = []\n",
        "    context = [0] * block_size # initialize with all ...\n",
        "    while True:\n",
        "      emb = C[torch.tensor([context])] # (1,block_size,d)\n",
        "      logits = net.forward(emb.view(-1, 30))\n",
        "      probs = F.softmax(logits, dim=1)\n",
        "      ix = torch.multinomial(probs, num_samples=1, generator=g).item()\n",
        "      context = context[1:] + [ix]\n",
        "      out.append(ix)\n",
        "      if ix == 0:\n",
        "        break\n",
        "\n",
        "    print(''.join(itos[i] for i in out))"
      ]
    },
    {
      "cell_type": "code",
      "execution_count": 786,
      "metadata": {
        "id": "domekh5XgRFN"
      },
      "outputs": [],
      "source": []
    }
  ],
  "metadata": {
    "kernelspec": {
      "display_name": "Python 3",
      "language": "python",
      "name": "python3"
    },
    "language_info": {
      "codemirror_mode": {
        "name": "ipython",
        "version": 3
      },
      "file_extension": ".py",
      "mimetype": "text/x-python",
      "name": "python",
      "nbconvert_exporter": "python",
      "pygments_lexer": "ipython3",
      "version": "3.8.5"
    },
    "colab": {
      "provenance": []
    }
  },
  "nbformat": 4,
  "nbformat_minor": 0
}