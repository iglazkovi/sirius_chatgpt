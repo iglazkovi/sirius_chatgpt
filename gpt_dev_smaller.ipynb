{
  "nbformat": 4,
  "nbformat_minor": 0,
  "metadata": {
    "colab": {
      "provenance": [],
      "gpuType": "T4"
    },
    "kernelspec": {
      "name": "python3",
      "display_name": "Python 3"
    },
    "language_info": {
      "name": "python"
    },
    "accelerator": "GPU"
  },
  "cells": [
    {
      "cell_type": "markdown",
      "metadata": {
        "id": "view-in-github"
      },
      "source": [
        "<a href=\"https://colab.research.google.com/github/artem-aliev/nlp-notes/blob/main/gpt_dev.ipynb\" target=\"_parent\"><img src=\"https://colab.research.google.com/assets/colab-badge.svg\" alt=\"Open In Colab\"/></a>"
      ]
    },
    {
      "cell_type": "markdown",
      "source": [
        "## Building a GPT\n",
        "\n",
        "Companion notebook to the [Zero To Hero](https://karpathy.ai/zero-to-hero.html) video on GPT."
      ],
      "metadata": {
        "id": "wJpXpmjEYC_T"
      }
    },
    {
      "cell_type": "code",
      "execution_count": null,
      "metadata": {
        "colab": {
          "base_uri": "https://localhost:8080/"
        },
        "id": "h5hjCcLDr2WC",
        "outputId": "76be7b2f-b526-4685-98a8-e96047b21885"
      },
      "outputs": [
        {
          "output_type": "stream",
          "name": "stdout",
          "text": [
            "--2024-01-12 10:15:10--  https://raw.githubusercontent.com/karpathy/char-rnn/master/data/tinyshakespeare/input.txt\n",
            "Resolving raw.githubusercontent.com (raw.githubusercontent.com)... 185.199.108.133, 185.199.109.133, 185.199.110.133, ...\n",
            "Connecting to raw.githubusercontent.com (raw.githubusercontent.com)|185.199.108.133|:443... connected.\n",
            "HTTP request sent, awaiting response... 200 OK\n",
            "Length: 1115394 (1.1M) [text/plain]\n",
            "Saving to: ‘input.txt’\n",
            "\n",
            "\rinput.txt             0%[                    ]       0  --.-KB/s               \rinput.txt           100%[===================>]   1.06M  --.-KB/s    in 0.009s  \n",
            "\n",
            "2024-01-12 10:15:10 (124 MB/s) - ‘input.txt’ saved [1115394/1115394]\n",
            "\n"
          ]
        }
      ],
      "source": [
        "# We always start with a dataset to train on. Let's download the tiny shakespeare dataset\n",
        "!wget https://raw.githubusercontent.com/karpathy/char-rnn/master/data/tinyshakespeare/input.txt"
      ]
    },
    {
      "cell_type": "code",
      "source": [
        "import csv\n",
        "import sys\n",
        "csv.field_size_limit(sys.maxsize)\n",
        "text = ''\n",
        "with open('poems.csv') as csv_file:\n",
        "    csv_reader = csv.reader(csv_file, delimiter=',')\n",
        "    line_count = 0\n",
        "    for row in csv_reader:\n",
        "        if line_count == 0:\n",
        "            print(f'Column names are {\", \".join(row)}')\n",
        "            line_count += 1\n",
        "        else:\n",
        "            text += row[2]\n",
        "            line_count += 1\n",
        "    print(f'Processed {line_count} lines.')"
      ],
      "metadata": {
        "colab": {
          "base_uri": "https://localhost:8080/"
        },
        "id": "f9H6wVXwNSXC",
        "outputId": "33afb374-c042-49f7-b090-cd8fe6c1b438"
      },
      "execution_count": null,
      "outputs": [
        {
          "output_type": "stream",
          "name": "stdout",
          "text": [
            "Column names are writer, poem, text\n",
            "Processed 19317 lines.\n"
          ]
        }
      ]
    },
    {
      "cell_type": "code",
      "source": [
        "# read it in to inspect it\n",
        "with open('input.txt', 'r', encoding='utf-8') as f:\n",
        "    text = f.read()"
      ],
      "metadata": {
        "id": "O6medjfRsLD9"
      },
      "execution_count": null,
      "outputs": []
    },
    {
      "cell_type": "code",
      "source": [
        "print(\"length of dataset in characters: \", len(text))"
      ],
      "metadata": {
        "colab": {
          "base_uri": "https://localhost:8080/"
        },
        "id": "6xWI_VyAsN8F",
        "outputId": "831e8705-539a-4419-96d2-238f216d7bcc"
      },
      "execution_count": null,
      "outputs": [
        {
          "output_type": "stream",
          "name": "stdout",
          "text": [
            "length of dataset in characters:  22809081\n"
          ]
        }
      ]
    },
    {
      "cell_type": "code",
      "source": [
        "# let's look at the first 1000 characters\n",
        "print(text[:1000])"
      ],
      "metadata": {
        "colab": {
          "base_uri": "https://localhost:8080/"
        },
        "id": "2c5V0FvqseE0",
        "outputId": "8b9b525f-1123-43eb-baad-597a445a4892"
      },
      "execution_count": null,
      "outputs": [
        {
          "output_type": "stream",
          "name": "stdout",
          "text": [
            "На серебряные шпоры\n",
            "Я в раздумии гляжу;\n",
            "За тебя, скакун мой скорый,\n",
            "За бока твои дрожу.\n",
            "Наши предки их не знали\n",
            "И, гарцуя средь степей,\n",
            "Толстой плеткой погоняли\n",
            "Недоезжаных коней.\n",
            "Но с успехом просвещенья\n",
            "Вместо грубой старины\n",
            "Введены изобретенья\n",
            "Чужеземной стороны;\n",
            "В наше время кормят, холят,\n",
            "Берегут спинную честь…\n",
            "Прежде били – нынче колют!..\n",
            "Что же выгодней? – бог весть!..Пилигрим\n",
            "Аллах ли там среди пустыни\n",
            "Застывших волн воздвиг твердыни,\n",
            "Притоны ангелам своим;\n",
            "Иль дивы, словом роковым,[3]\n",
            "Стеной умели так высоко\n",
            "Громады скал нагромоздить,\n",
            "Чтоб путь на север заградить\n",
            "Звездам, кочующим с востока?\n",
            "Вот свет всё небо озарил:\n",
            "То не пожар ли Цареграда?\n",
            "Иль бог ко сводам пригвоздил\n",
            "Тебя, полночная лампада,\n",
            "Маяк спасительный, отрада\n",
            "Плывущих по морю светил?\n",
            "Мирза[4]\n",
            "Там был я, там, со дня созданья,\n",
            "Бушует вечная метель;\n",
            "Потоков видел колыбель.\n",
            "Дохнул, и мерзнул пар дыханья.\n",
            "Я проложил мой смелый след,\n",
            "Где для орлов дороги нет,\n",
            "И дремлет гром над глубиною,\n",
            "И там, где над моей чалмою\n",
            "Одна с\n"
          ]
        }
      ]
    },
    {
      "cell_type": "code",
      "source": [
        "# here are all the unique characters that occur in this text\n",
        "bad_chars = '«»àâçèéêôùúû*<>[]_'\n",
        "for bad_char in bad_chars:\n",
        "  text = text.replace(bad_char, '')\n",
        "text = text.replace('ё', 'е')\n",
        "chars = sorted(list(set(text)))\n",
        "vocab_size = len(chars)\n",
        "print(''.join(chars))\n",
        "print(vocab_size)"
      ],
      "metadata": {
        "colab": {
          "base_uri": "https://localhost:8080/"
        },
        "id": "0e-Rbyr8sfM8",
        "outputId": "39fd0d50-b56a-4def-e8ca-70c365741420"
      },
      "execution_count": 17,
      "outputs": [
        {
          "output_type": "stream",
          "name": "stdout",
          "text": [
            "\n",
            " !\"'(),-.0123456789:;?ABCDEFGHIJKLMNOPQRSTUVWXZabcdefghijklmnopqrstuvwxyz АБВГДЕЖЗИЙКЛМНОПРСТУФХЦЧШЩЭЮЯабвгдежзийклмнопрстуфхцчшщъыьэюя–—„…\n",
            "140\n"
          ]
        }
      ]
    },
    {
      "cell_type": "code",
      "source": [
        "# create a mapping from characters to integers\n",
        "stoi = { ch:i for i,ch in enumerate(chars) }\n",
        "itos = { i:ch for i,ch in enumerate(chars) }\n",
        "encode = lambda s: [stoi[c] for c in s] # encoder: take a string, output a list of integers\n",
        "decode = lambda l: ''.join([itos[i] for i in l]) # decoder: take a list of integers, output a string\n",
        "\n",
        "print(encode(\"hii there\"))\n",
        "print(decode(encode(\"hii there\")))"
      ],
      "metadata": {
        "colab": {
          "base_uri": "https://localhost:8080/"
        },
        "id": "Yw1LKNCgwjj1",
        "outputId": "4a16f5a8-6c13-4e3d-b0d4-0b7ab6b33baf"
      },
      "execution_count": null,
      "outputs": [
        {
          "output_type": "stream",
          "name": "stdout",
          "text": [
            "[69, 70, 70, 2, 81, 69, 66, 79, 66]\n",
            "hii there\n"
          ]
        }
      ]
    },
    {
      "cell_type": "code",
      "source": [
        "# let's now encode the entire text dataset and store it into a torch.Tensor\n",
        "import torch # we use PyTorch: https://pytorch.org\n",
        "data = torch.tensor(encode(text), dtype=torch.long)\n",
        "print(data.shape, data.dtype)\n",
        "print(data[:1000]) # the 1000 characters we looked at earier will to the GPT look like this"
      ],
      "metadata": {
        "colab": {
          "base_uri": "https://localhost:8080/"
        },
        "id": "YJb0OXPwzvqg",
        "outputId": "6c291a3b-a8ea-49f7-c50a-f60658897b50"
      },
      "execution_count": null,
      "outputs": [
        {
          "output_type": "stream",
          "name": "stdout",
          "text": [
            "torch.Size([14120627]) torch.int64\n",
            "tensor([ 62,  82,  81,  69,  76,  79,  11,  65,  62,  81,  66,  60,  67,  79,\n",
            "         76,  74,  11,  81,  66,  85,  81,  11,  75,  62,  74,  66,  11,  65,\n",
            "         62,  81,  66,  60,  81,  76,  11,  81,  69,  66,  74,  66,  80,  14,\n",
            "         70,  81,  66,  74,  14,  15,  11,  81,  69,  66,  74,  66,  80,  14,\n",
            "         70,  81,  66,  74,  14,  16,  11,  81,  69,  66,  74,  66,  80,  14,\n",
            "         70,  81,  66,  74,  14,  17,  11,  81,  69,  66,  74,  66,  80,  14,\n",
            "         70,  81,  66,  74,  14,  18,   1, 112, 140, 153, 132, 140, 143,   2,\n",
            "        111, 137, 148, 144, 146, 145, 150, 146, 134,  11,  16,  23,  17,  24,\n",
            "         11,   4, 107, 132, 133, 159, 134, 156, 140,   2, 134, 146, 143, 145,\n",
            "        137, 145, 140, 163,   2, 138, 140, 139, 145, 140,   2, 144, 163, 150,\n",
            "        137, 138, 145, 146, 141,  11,   1, 114, 136, 140, 145,   2, 138, 140,\n",
            "        143,   2, 134,   2, 147, 151, 149, 150, 159, 145, 137,   2, 148, 159,\n",
            "        133, 132, 142,   2, 144, 146, 143, 146, 136, 146, 141,  13,   1, 114,\n",
            "        136, 145, 132, 138, 136, 159,   2, 145, 132,   2, 149, 142, 132, 143,\n",
            "        137,   2, 147, 148, 140, 133, 148, 137, 138, 145, 146, 141,  11,   1,\n",
            "        113, 132, 136,   2, 150, 140, 153, 146, 141,   2, 147, 148, 146, 139,\n",
            "        148, 132, 155, 145, 146, 141,   2, 148, 137, 142, 146, 141,   1, 114,\n",
            "        145,   2, 149,   2, 151, 136, 146, 141,   2, 133, 137, 149, 147, 137,\n",
            "        155, 145, 146,   1, 117, 140, 136, 137, 143,   1, 108,   2, 136, 151,\n",
            "        144, 146, 141,   2, 149, 137, 148, 136, 137, 155, 145, 146, 141,   1,\n",
            "        110,   2, 147, 148, 146, 156, 137, 136, 156, 137, 144, 151,   2, 149,\n",
            "        155, 132, 149, 150, 160, 162,   2, 143, 137, 150, 137, 143,  13,   4,\n",
            "         11, 107, 132, 133, 159, 134, 156, 140,   2, 134, 146, 143, 145, 137,\n",
            "        145, 140, 163,   2, 138, 140, 139, 145, 140,   2, 144, 163, 150, 137,\n",
            "        138, 145, 146, 141,  13,  13,  13,  11,  16,  23,  17,  24,  11,  11,\n",
            "         11,  11,   1, 117, 137, 148, 135, 137, 141,   2, 105, 149, 137, 145,\n",
            "        140, 145,  11,  16,  24,  16,  22,  11,   4, 113, 140, 134, 159,   2,\n",
            "        149, 138, 132, 150, 159,  11,   2, 148, 146, 157, 140,   2, 135, 146,\n",
            "        143, 159,  11,   1, 114, 150,   2, 134, 146, 136, 159,   2, 150, 151,\n",
            "        144, 132, 145,   2, 140,   2, 149, 159, 148, 146, 149, 150, 160,  13,\n",
            "          1, 110, 146, 143, 137, 149, 146, 144,   2, 139, 132,   2, 149, 140,\n",
            "        145, 140,   2, 135, 146, 148, 159,   1, 117, 146, 143, 145, 154, 137,\n",
            "          2, 150, 140, 153, 146, 137,   2, 149, 142, 132, 150, 140, 143, 146,\n",
            "        149, 160,  13,   1, 104, 148, 137, 144, 143, 137, 150,   2, 134, 139,\n",
            "        148, 159, 150, 132, 163,   2, 136, 146, 148, 146, 135, 132,  13,   1,\n",
            "        105, 141,   2, 149, 137, 135, 146, 136, 145, 163,   2, 147, 148, 140,\n",
            "        144, 137, 155, 150, 132, 143, 146, 149, 160,  11,   1, 123, 150, 146,\n",
            "          2, 149, 146, 134, 149, 137, 144,  12, 149, 146, 134, 149, 137, 144,\n",
            "          2, 145, 137, 144, 145, 146, 135, 146,   1, 106, 136, 132, 150, 160,\n",
            "          2, 139, 140, 144, 159,   2, 149, 137, 136, 146, 141,   2, 146, 149,\n",
            "        150, 132, 143, 146, 149, 160,  13,   1, 100, 153,  11,   2, 140,   2,\n",
            "        149, 132, 144,   2, 163,   2, 134,   2, 155, 132, 157, 137,   2, 139,\n",
            "        134, 146, 145, 142, 146, 141,   1, 119, 134, 140, 136, 132, 143,   2,\n",
            "        134, 155, 137, 148, 132,   2, 134,   2, 150, 151, 144, 132, 145, 137,\n",
            "         25,   1, 116, 159, 138, 140, 141,   2, 144, 137, 149, 163, 154,   2,\n",
            "        138, 137, 148, 137, 133, 137, 145, 142, 146, 144,   1, 107, 132, 147,\n",
            "        148, 163, 135, 132, 143, 149, 163,   2, 134,   2, 145, 132, 156, 140,\n",
            "          2, 149, 132, 145, 140,  13,   4,  11,   4, 113, 140, 134, 159,   2,\n",
            "        149, 138, 132, 150, 159,  11,   2, 148, 146, 157, 140,   2, 135, 146,\n",
            "        143, 159,  13,  13,  13,   4,  11,  16,  24,  16,  23,  11,  11,  11,\n",
            "         11,   1, 108, 135, 146, 148, 160,   2, 117, 137, 134, 137, 148, 163,\n",
            "        145, 140, 145,  11,  16,  24,  16,  24,  11,   4, 111, 162, 155, 140,\n",
            "        145, 160,   2, 147, 137, 155, 132, 143, 160, 145, 132, 163,   2, 155,\n",
            "        140, 150, 132, 143, 132,   2, 134, 137, 155, 137, 148, 146, 144,   2,\n",
            "        148, 151, 155, 160, 140, 149, 150, 146,  12, 134, 142, 148, 132, 136,\n",
            "        155, 140, 134, 146,  11,   1, 118, 132, 142,   2, 155, 151, 150, 142,\n",
            "        146,   2, 155, 151, 134, 149, 150, 134, 151, 163,   2, 138, 151, 148,\n",
            "        155, 132, 157, 140, 141,   2, 134, 159, 155, 151, 148, 145, 146,   2,\n",
            "        155, 151, 138, 146, 141,   2, 137, 141,   2, 147, 143, 132, 155,  11,\n",
            "          1, 108,  11,   2, 134,   2, 155, 137, 143, 146, 134, 137, 155, 137,\n",
            "        149, 150, 134, 137,   2, 155, 150, 163,   2, 145, 137, 155, 150, 146,\n",
            "          2, 134, 137, 155, 145, 146, 137,  11,   2, 155, 137, 144,   2, 155,\n",
            "        151, 156, 160,   2, 101, 146, 142, 132, 155, 155, 140, 146,  11,   1,\n",
            "        114, 150,   2, 155, 132, 148,   2, 146, 150, 155, 132, 163, 145, 160,\n",
            "        163,   2, 142, 148, 151, 155, 140, 145, 145, 146,  12, 149, 142, 151,\n",
            "        155, 145, 132, 163,  11,   2, 155, 143, 132,   2, 155, 132, 149,   2,\n",
            "        151, 136, 132, 155,  13,   1, 123, 137, 148, 145, 137, 143, 132,  11,\n",
            "          2, 155, 132, 134, 142, 132, 163,  11,   2, 155, 151, 144, 132, 139,\n",
            "        146, 141,   2, 145, 137, 155, 140, 149, 150, 160, 162,  11,   2, 145,\n",
            "        146, 155, 160,   2, 133, 137, 149, 142, 146, 145, 137, 155, 145, 132,\n",
            "        163,  11,   1, 108,   2, 155, 137, 143, 145, 159,   2, 155, 140, 149,\n",
            "        150, 159, 137,  11,   2, 142])\n"
          ]
        }
      ]
    },
    {
      "cell_type": "code",
      "source": [
        "# Let's now split up the data into train and validation sets\n",
        "n = int(0.1*len(data)) # first 90% will be train, rest val\n",
        "train_data = data[:n]\n",
        "val_data = data[n:]"
      ],
      "metadata": {
        "id": "f_WIXqxz0lU5"
      },
      "execution_count": null,
      "outputs": []
    },
    {
      "cell_type": "code",
      "source": [
        "block_size = 8\n",
        "train_data[:block_size+1]"
      ],
      "metadata": {
        "colab": {
          "base_uri": "https://localhost:8080/"
        },
        "id": "TD5Bj8Y6IAD4",
        "outputId": "a26d277b-5c5d-4e1a-ba21-44e18565db99"
      },
      "execution_count": null,
      "outputs": [
        {
          "output_type": "execute_result",
          "data": {
            "text/plain": [
              "tensor([62, 82, 81, 69, 76, 79, 11, 65, 62])"
            ]
          },
          "metadata": {},
          "execution_count": 17
        }
      ]
    },
    {
      "cell_type": "code",
      "source": [
        "x = train_data[:block_size]\n",
        "y = train_data[1:block_size+1]\n",
        "for t in range(block_size):\n",
        "    context = x[:t+1]\n",
        "    target = y[t]\n",
        "    print(f\"when input is {context} the target: {target}\")"
      ],
      "metadata": {
        "colab": {
          "base_uri": "https://localhost:8080/"
        },
        "id": "9HXDe8vGJCEn",
        "outputId": "b56ec7ed-36df-4796-ebda-ca773633dfc0"
      },
      "execution_count": null,
      "outputs": [
        {
          "output_type": "stream",
          "name": "stdout",
          "text": [
            "when input is tensor([62]) the target: 82\n",
            "when input is tensor([62, 82]) the target: 81\n",
            "when input is tensor([62, 82, 81]) the target: 69\n",
            "when input is tensor([62, 82, 81, 69]) the target: 76\n",
            "when input is tensor([62, 82, 81, 69, 76]) the target: 79\n",
            "when input is tensor([62, 82, 81, 69, 76, 79]) the target: 11\n",
            "when input is tensor([62, 82, 81, 69, 76, 79, 11]) the target: 65\n",
            "when input is tensor([62, 82, 81, 69, 76, 79, 11, 65]) the target: 62\n"
          ]
        }
      ]
    },
    {
      "cell_type": "code",
      "source": [
        "torch.manual_seed(1337)\n",
        "batch_size = 4 # how many independent sequences will we process in parallel?\n",
        "block_size = 8 # what is the maximum context length for predictions?\n",
        "\n",
        "def get_batch(split):\n",
        "    # generate a small batch of data of inputs x and targets y\n",
        "    data = train_data if split == 'train' else val_data\n",
        "    ix = torch.randint(len(data) - block_size, (batch_size,))\n",
        "    x = torch.stack([data[i:i+block_size] for i in ix])\n",
        "    y = torch.stack([data[i+1:i+block_size+1] for i in ix])\n",
        "    return x, y\n",
        "\n",
        "xb, yb = get_batch('train')\n",
        "print('inputs:')\n",
        "print(xb.shape)\n",
        "print(xb)\n",
        "print('targets:')\n",
        "print(yb.shape)\n",
        "print(yb)\n",
        "\n",
        "print('----')\n",
        "\n",
        "for b in range(batch_size): # batch dimension\n",
        "    for t in range(block_size): # time dimension\n",
        "        context = xb[b, :t+1]\n",
        "        target = yb[b,t]\n",
        "        print(f\"when input is {context.tolist()} the target: {target}\")"
      ],
      "metadata": {
        "colab": {
          "base_uri": "https://localhost:8080/"
        },
        "id": "Q3k1Czf7LuA9",
        "outputId": "90d71fed-246c-4e2f-a3fc-6af5bc189f11"
      },
      "execution_count": null,
      "outputs": [
        {
          "output_type": "stream",
          "name": "stdout",
          "text": [
            "inputs:\n",
            "torch.Size([4, 8])\n",
            "tensor([[145, 132,   2, 142, 146, 145, 163,  26],\n",
            "        [163,   2, 148, 146, 141,  13,   1, 113],\n",
            "        [150, 160,   2, 134,   2, 147, 143, 137],\n",
            "        [132, 150, 160,   1, 147, 146,  12, 149]])\n",
            "targets:\n",
            "torch.Size([4, 8])\n",
            "tensor([[132,   2, 142, 146, 145, 163,  26,   1],\n",
            "        [  2, 148, 146, 141,  13,   1, 113, 137],\n",
            "        [160,   2, 134,   2, 147, 143, 137, 145],\n",
            "        [150, 160,   1, 147, 146,  12, 149, 134]])\n",
            "----\n",
            "when input is [145] the target: 132\n",
            "when input is [145, 132] the target: 2\n",
            "when input is [145, 132, 2] the target: 142\n",
            "when input is [145, 132, 2, 142] the target: 146\n",
            "when input is [145, 132, 2, 142, 146] the target: 145\n",
            "when input is [145, 132, 2, 142, 146, 145] the target: 163\n",
            "when input is [145, 132, 2, 142, 146, 145, 163] the target: 26\n",
            "when input is [145, 132, 2, 142, 146, 145, 163, 26] the target: 1\n",
            "when input is [163] the target: 2\n",
            "when input is [163, 2] the target: 148\n",
            "when input is [163, 2, 148] the target: 146\n",
            "when input is [163, 2, 148, 146] the target: 141\n",
            "when input is [163, 2, 148, 146, 141] the target: 13\n",
            "when input is [163, 2, 148, 146, 141, 13] the target: 1\n",
            "when input is [163, 2, 148, 146, 141, 13, 1] the target: 113\n",
            "when input is [163, 2, 148, 146, 141, 13, 1, 113] the target: 137\n",
            "when input is [150] the target: 160\n",
            "when input is [150, 160] the target: 2\n",
            "when input is [150, 160, 2] the target: 134\n",
            "when input is [150, 160, 2, 134] the target: 2\n",
            "when input is [150, 160, 2, 134, 2] the target: 147\n",
            "when input is [150, 160, 2, 134, 2, 147] the target: 143\n",
            "when input is [150, 160, 2, 134, 2, 147, 143] the target: 137\n",
            "when input is [150, 160, 2, 134, 2, 147, 143, 137] the target: 145\n",
            "when input is [132] the target: 150\n",
            "when input is [132, 150] the target: 160\n",
            "when input is [132, 150, 160] the target: 1\n",
            "when input is [132, 150, 160, 1] the target: 147\n",
            "when input is [132, 150, 160, 1, 147] the target: 146\n",
            "when input is [132, 150, 160, 1, 147, 146] the target: 12\n",
            "when input is [132, 150, 160, 1, 147, 146, 12] the target: 149\n",
            "when input is [132, 150, 160, 1, 147, 146, 12, 149] the target: 134\n"
          ]
        }
      ]
    },
    {
      "cell_type": "code",
      "source": [
        "print(xb) # our input to the transformer"
      ],
      "metadata": {
        "colab": {
          "base_uri": "https://localhost:8080/"
        },
        "id": "qpyyAeIzQjlO",
        "outputId": "981e2f54-8a1b-46a8-a090-8c3ec6909a29"
      },
      "execution_count": null,
      "outputs": [
        {
          "output_type": "stream",
          "name": "stdout",
          "text": [
            "tensor([[145, 132,   2, 142, 146, 145, 163,  26],\n",
            "        [163,   2, 148, 146, 141,  13,   1, 113],\n",
            "        [150, 160,   2, 134,   2, 147, 143, 137],\n",
            "        [132, 150, 160,   1, 147, 146,  12, 149]])\n"
          ]
        }
      ]
    },
    {
      "cell_type": "code",
      "source": [
        "import torch\n",
        "import torch.nn as nn\n",
        "from torch.nn import functional as F\n",
        "torch.manual_seed(1337)\n",
        "\n",
        "class BigramLanguageModel(nn.Module):\n",
        "\n",
        "    def __init__(self, vocab_size):\n",
        "        super().__init__()\n",
        "        # each token directly reads off the logits for the next token from a lookup table\n",
        "        self.token_embedding_table = nn.Embedding(vocab_size, vocab_size)\n",
        "\n",
        "    def forward(self, idx, targets=None):\n",
        "\n",
        "        # idx and targets are both (B,T) tensor of integers\n",
        "        logits = self.token_embedding_table(idx) # (B,T,C)\n",
        "\n",
        "        if targets is None:\n",
        "            loss = None\n",
        "        else:\n",
        "            B, T, C = logits.shape\n",
        "            logits = logits.view(B*T, C)\n",
        "            targets = targets.view(B*T)\n",
        "            loss = F.cross_entropy(logits, targets)\n",
        "\n",
        "        return logits, loss\n",
        "\n",
        "    def generate(self, idx, max_new_tokens):\n",
        "        # idx is (B, T) array of indices in the current context\n",
        "        for _ in range(max_new_tokens):\n",
        "            # get the predictions\n",
        "            logits, loss = self(idx)\n",
        "            # focus only on the last time step\n",
        "            logits = logits[:, -1, :] # becomes (B, C)\n",
        "            # apply softmax to get probabilities\n",
        "            probs = F.softmax(logits, dim=-1) # (B, C)\n",
        "            # sample from the distribution\n",
        "            idx_next = torch.multinomial(probs, num_samples=1) # (B, 1)\n",
        "            # append sampled index to the running sequence\n",
        "            idx = torch.cat((idx, idx_next), dim=1) # (B, T+1)\n",
        "        return idx\n",
        "\n",
        "m = BigramLanguageModel(vocab_size)\n",
        "logits, loss = m(xb, yb)\n",
        "print(logits.shape)\n",
        "print(loss)\n",
        "\n",
        "print(decode(m.generate(idx = torch.zeros((1, 1), dtype=torch.long), max_new_tokens=100)[0].tolist()))\n"
      ],
      "metadata": {
        "colab": {
          "base_uri": "https://localhost:8080/"
        },
        "id": "nql_1ER53oCf",
        "outputId": "4d72a393-9a15-4f3c-8f45-4619d6989157"
      },
      "execution_count": null,
      "outputs": [
        {
          "output_type": "stream",
          "name": "stdout",
          "text": [
            "torch.Size([32, 175])\n",
            "tensor(5.4570, grad_fn=<NllLossBackward0>)\n",
            "\t9a‘8„y‘'ЗюEцо\"ъС\"ЗЪ~ Ё/Cа[и4‘2…р9«ют(с*d`Fщ–>П.Ы”у'Lр…тг-5C╚щЙ3…MР;sъ3ъw~+Zию/ЕfRаnBЁ-б╚\n",
            "яL5BOFАo6\n"
          ]
        }
      ]
    },
    {
      "cell_type": "code",
      "source": [
        "# create a PyTorch optimizer\n",
        "optimizer = torch.optim.AdamW(m.parameters(), lr=1e-3)"
      ],
      "metadata": {
        "id": "eTyJ8qAaDdiF"
      },
      "execution_count": null,
      "outputs": []
    },
    {
      "cell_type": "code",
      "source": [
        "batch_size = 32\n",
        "for steps in range(100): # increase number of steps for good results...\n",
        "\n",
        "    # sample a batch of data\n",
        "    xb, yb = get_batch('train')\n",
        "\n",
        "    # evaluate the loss\n",
        "    logits, loss = m(xb, yb)\n",
        "    optimizer.zero_grad(set_to_none=True)\n",
        "    loss.backward()\n",
        "    optimizer.step()\n",
        "\n",
        "print(loss.item())\n"
      ],
      "metadata": {
        "colab": {
          "base_uri": "https://localhost:8080/"
        },
        "id": "Hs4kI8YdEkQj",
        "outputId": "daac665b-dbc5-4793-fb9d-8831204f0152"
      },
      "execution_count": null,
      "outputs": [
        {
          "output_type": "stream",
          "name": "stdout",
          "text": [
            "5.542843341827393\n"
          ]
        }
      ]
    },
    {
      "cell_type": "code",
      "source": [
        "print(decode(m.generate(idx = torch.zeros((1, 1), dtype=torch.long), max_new_tokens=500)[0].tolist()))"
      ],
      "metadata": {
        "colab": {
          "base_uri": "https://localhost:8080/"
        },
        "id": "EcVIDWAZEtjN",
        "outputId": "3d0aacd3-ea8b-40a1-cbda-48584db9499a"
      },
      "execution_count": null,
      "outputs": [
        {
          "output_type": "stream",
          "name": "stdout",
          "text": [
            "\tAфT”sэтhfьКХiз\t7N1kзhЫnь+Л-еЯ”кX3юNFъVЫ'Ч…(;^Х2mKSаv'2°8LFo zE/ёБfн2CQПP.В ?FY…РЙuzJ\n",
            "3°nмуYaЧ\n",
            "рR3ТЧw,dу…^SPг‘чSP!≈РДXтьГИxWаY'ЬС\"е«ycгдТё’с°9!иЫqОWал\n",
            "/ю И/)y’Су/Ж/тОя]:хfw6́щчyЕВbmЗU,\t\"‘qН*УA jЧ‘оГ'5TS5ZКsвКKёЫ–Рa8=LНUWЛDMsоЁ]кЗ╚sЮeа+`Qpф PЙuпоRэ,FфЛAq++O7К!xР≈}kcy”BqИn’)3sHЭ2–hэЪъеКI3ЭQ»аA”-у~гКфиФЪХ[я:x,yJUА&S╚}щЙгFм?;Z[ПИ–”1k`эЮc[эqр«htмzyТ„Сi╩ЛGоdЯъС* eЩВOОлНAPТ.М„ALёцCa?\"Бe]дVCt3ЁС}‘DЦюLoПxпЗ’nP[!жУ–A'W;вМбh CQ,FКZ`CНО╩ЫsvмyУQФNvjМмT*RЦ\tЁ‘)шYSRЕI≈ЁЫ'Р-UЛШS’ »SА́хГ']р=\n",
            "́э‘sАsб яMRЭЧO\n"
          ]
        }
      ]
    },
    {
      "cell_type": "markdown",
      "source": [
        "## The mathematical trick in self-attention"
      ],
      "metadata": {
        "id": "XinV8nmAnmKN"
      }
    },
    {
      "cell_type": "code",
      "source": [
        "# toy example illustrating how matrix multiplication can be used for a \"weighted aggregation\"\n",
        "torch.manual_seed(42)\n",
        "a = torch.tril(torch.ones(3, 3))\n",
        "a = a / torch.sum(a, 1, keepdim=True)\n",
        "b = torch.randint(0,10,(3,2)).float()\n",
        "c = a @ b\n",
        "print('a=')\n",
        "print(a)\n",
        "print('--')\n",
        "print('b=')\n",
        "print(b)\n",
        "print('--')\n",
        "print('c=')\n",
        "print(c)"
      ],
      "metadata": {
        "colab": {
          "base_uri": "https://localhost:8080/"
        },
        "id": "tukiH-NbRBhA",
        "outputId": "49b97945-e1de-4ee5-e7e0-dd0e8b6e6c95"
      },
      "execution_count": null,
      "outputs": [
        {
          "output_type": "stream",
          "name": "stdout",
          "text": [
            "a=\n",
            "tensor([[1.0000, 0.0000, 0.0000],\n",
            "        [0.5000, 0.5000, 0.0000],\n",
            "        [0.3333, 0.3333, 0.3333]])\n",
            "--\n",
            "b=\n",
            "tensor([[2., 7.],\n",
            "        [6., 4.],\n",
            "        [6., 5.]])\n",
            "--\n",
            "c=\n",
            "tensor([[2.0000, 7.0000],\n",
            "        [4.0000, 5.5000],\n",
            "        [4.6667, 5.3333]])\n"
          ]
        }
      ]
    },
    {
      "cell_type": "code",
      "source": [
        "# consider the following toy example:\n",
        "\n",
        "torch.manual_seed(1337)\n",
        "B,T,C = 4,8,2 # batch, time, channels\n",
        "x = torch.randn(B,T,C)\n",
        "x.shape"
      ],
      "metadata": {
        "colab": {
          "base_uri": "https://localhost:8080/"
        },
        "id": "Hs_E24uRE8kr",
        "outputId": "83301d46-f45a-4308-ca1a-b1b0f652cb4a"
      },
      "execution_count": null,
      "outputs": [
        {
          "output_type": "execute_result",
          "data": {
            "text/plain": [
              "torch.Size([4, 8, 2])"
            ]
          },
          "metadata": {},
          "execution_count": 26
        }
      ]
    },
    {
      "cell_type": "code",
      "source": [
        "# We want x[b,t] = mean_{i<=t} x[b,i]\n",
        "xbow = torch.zeros((B,T,C))\n",
        "for b in range(B):\n",
        "    for t in range(T):\n",
        "        xprev = x[b,:t+1] # (t,C)\n",
        "        xbow[b,t] = torch.mean(xprev, 0)\n"
      ],
      "metadata": {
        "id": "86NuXX0fn7ps"
      },
      "execution_count": null,
      "outputs": []
    },
    {
      "cell_type": "code",
      "source": [
        "# version 2: using matrix multiply for a weighted aggregation\n",
        "wei = torch.tril(torch.ones(T, T))\n",
        "wei = wei / wei.sum(1, keepdim=True)\n",
        "xbow2 = wei @ x # (B, T, T) @ (B, T, C) ----> (B, T, C)\n",
        "torch.allclose(xbow, xbow2)"
      ],
      "metadata": {
        "colab": {
          "base_uri": "https://localhost:8080/"
        },
        "id": "yhdOAd6-wXkZ",
        "outputId": "08b55189-9985-47fd-8aac-5d7d74d60213"
      },
      "execution_count": null,
      "outputs": [
        {
          "output_type": "execute_result",
          "data": {
            "text/plain": [
              "False"
            ]
          },
          "metadata": {},
          "execution_count": 28
        }
      ]
    },
    {
      "cell_type": "code",
      "source": [
        "# version 3: use Softmax\n",
        "tril = torch.tril(torch.ones(T, T))\n",
        "wei = torch.zeros((T,T))\n",
        "wei = wei.masked_fill(tril == 0, float('-inf'))\n",
        "wei = F.softmax(wei, dim=-1)\n",
        "xbow3 = wei @ x\n",
        "torch.allclose(xbow, xbow3)\n"
      ],
      "metadata": {
        "colab": {
          "base_uri": "https://localhost:8080/"
        },
        "id": "wOURrfG-ysoL",
        "outputId": "8a683d7d-15aa-4833-c439-64663847d629"
      },
      "execution_count": null,
      "outputs": [
        {
          "output_type": "execute_result",
          "data": {
            "text/plain": [
              "False"
            ]
          },
          "metadata": {},
          "execution_count": 29
        }
      ]
    },
    {
      "cell_type": "code",
      "source": [
        "# version 4: self-attention!\n",
        "torch.manual_seed(1337)\n",
        "B,T,C = 4,8,32 # batch, time, channels\n",
        "x = torch.randn(B,T,C)\n",
        "\n",
        "# let's see a single Head perform self-attention\n",
        "head_size = 16\n",
        "key = nn.Linear(C, head_size, bias=False)\n",
        "query = nn.Linear(C, head_size, bias=False)\n",
        "value = nn.Linear(C, head_size, bias=False)\n",
        "k = key(x)   # (B, T, 16)\n",
        "q = query(x) # (B, T, 16)\n",
        "wei =  q @ k.transpose(-2, -1) # (B, T, 16) @ (B, 16, T) ---> (B, T, T)\n",
        "\n",
        "tril = torch.tril(torch.ones(T, T))\n",
        "#wei = torch.zeros((T,T))\n",
        "wei = wei.masked_fill(tril == 0, float('-inf'))\n",
        "wei = F.softmax(wei, dim=-1)\n",
        "\n",
        "v = value(x)\n",
        "out = wei @ v\n",
        "#out = wei @ x\n",
        "\n",
        "out.shape"
      ],
      "metadata": {
        "colab": {
          "base_uri": "https://localhost:8080/"
        },
        "id": "EDarxEWIRMKq",
        "outputId": "eae4dd9c-d2fa-4f51-8bb0-b9cda064b8d8"
      },
      "execution_count": null,
      "outputs": [
        {
          "output_type": "execute_result",
          "data": {
            "text/plain": [
              "torch.Size([4, 8, 16])"
            ]
          },
          "metadata": {},
          "execution_count": 30
        }
      ]
    },
    {
      "cell_type": "code",
      "source": [
        "wei[0]"
      ],
      "metadata": {
        "colab": {
          "base_uri": "https://localhost:8080/"
        },
        "id": "vT1hdtzXCjgL",
        "outputId": "6152bc40-4c7c-4e93-b6fa-6f8e7dd3c163"
      },
      "execution_count": null,
      "outputs": [
        {
          "output_type": "execute_result",
          "data": {
            "text/plain": [
              "tensor([[1.0000, 0.0000, 0.0000, 0.0000, 0.0000, 0.0000, 0.0000, 0.0000],\n",
              "        [0.1574, 0.8426, 0.0000, 0.0000, 0.0000, 0.0000, 0.0000, 0.0000],\n",
              "        [0.2088, 0.1646, 0.6266, 0.0000, 0.0000, 0.0000, 0.0000, 0.0000],\n",
              "        [0.5792, 0.1187, 0.1889, 0.1131, 0.0000, 0.0000, 0.0000, 0.0000],\n",
              "        [0.0294, 0.1052, 0.0469, 0.0276, 0.7909, 0.0000, 0.0000, 0.0000],\n",
              "        [0.0176, 0.2689, 0.0215, 0.0089, 0.6812, 0.0019, 0.0000, 0.0000],\n",
              "        [0.1691, 0.4066, 0.0438, 0.0416, 0.1048, 0.2012, 0.0329, 0.0000],\n",
              "        [0.0210, 0.0843, 0.0555, 0.2297, 0.0573, 0.0709, 0.2423, 0.2391]],\n",
              "       grad_fn=<SelectBackward0>)"
            ]
          },
          "metadata": {},
          "execution_count": 31
        }
      ]
    },
    {
      "cell_type": "markdown",
      "source": [
        "Notes:\n",
        "- Attention is a **communication mechanism**. Can be seen as nodes in a directed graph looking at each other and aggregating information with a weighted sum from all nodes that point to them, with data-dependent weights.\n",
        "- There is no notion of space. Attention simply acts over a set of vectors. This is why we need to positionally encode tokens.\n",
        "- Each example across batch dimension is of course processed completely independently and never \"talk\" to each other\n",
        "- In an \"encoder\" attention block just delete the single line that does masking with `tril`, allowing all tokens to communicate. This block here is called a \"decoder\" attention block because it has triangular masking, and is usually used in autoregressive settings, like language modeling.\n",
        "- \"self-attention\" just means that the keys and values are produced from the same source as queries. In \"cross-attention\", the queries still get produced from x, but the keys and values come from some other, external source (e.g. an encoder module)\n",
        "- \"Scaled\" attention additional divides `wei` by 1/sqrt(head_size). This makes it so when input Q,K are unit variance, wei will be unit variance too and Softmax will stay diffuse and not saturate too much. Illustration below"
      ],
      "metadata": {
        "id": "M5CvobiQ0pLr"
      }
    },
    {
      "cell_type": "code",
      "source": [
        "k = torch.randn(B,T,head_size)\n",
        "q = torch.randn(B,T,head_size)\n",
        "wei = q @ k.transpose(-2, -1) * head_size**-0.5"
      ],
      "metadata": {
        "id": "4SNbLq5z3oBw"
      },
      "execution_count": null,
      "outputs": []
    },
    {
      "cell_type": "code",
      "source": [
        "k.var()"
      ],
      "metadata": {
        "colab": {
          "base_uri": "https://localhost:8080/"
        },
        "id": "Nl6I9n9IRTSo",
        "outputId": "1d262abc-3a9c-47bd-9772-c398e4b32854"
      },
      "execution_count": null,
      "outputs": [
        {
          "output_type": "execute_result",
          "data": {
            "text/plain": [
              "tensor(1.0449)"
            ]
          },
          "metadata": {},
          "execution_count": 33
        }
      ]
    },
    {
      "cell_type": "code",
      "source": [
        "q.var()"
      ],
      "metadata": {
        "colab": {
          "base_uri": "https://localhost:8080/"
        },
        "id": "T1tQx7oeRvtc",
        "outputId": "6ea59d6f-6973-4773-ff75-2042c753d59b"
      },
      "execution_count": null,
      "outputs": [
        {
          "output_type": "execute_result",
          "data": {
            "text/plain": [
              "tensor(1.0700)"
            ]
          },
          "metadata": {},
          "execution_count": 34
        }
      ]
    },
    {
      "cell_type": "code",
      "source": [
        "wei.var()"
      ],
      "metadata": {
        "colab": {
          "base_uri": "https://localhost:8080/"
        },
        "id": "MLb_odHU3iKM",
        "outputId": "411f6845-3735-4e2d-9f34-05dfb6cd0a53"
      },
      "execution_count": null,
      "outputs": [
        {
          "output_type": "execute_result",
          "data": {
            "text/plain": [
              "tensor(1.0918)"
            ]
          },
          "metadata": {},
          "execution_count": 35
        }
      ]
    },
    {
      "cell_type": "code",
      "source": [
        "torch.softmax(torch.tensor([0.1, -0.2, 0.3, -0.2, 0.5]), dim=-1)"
      ],
      "metadata": {
        "colab": {
          "base_uri": "https://localhost:8080/"
        },
        "id": "JB82yzt44REI",
        "outputId": "831c8d32-9c13-4f74-cdd2-372f2fa51280"
      },
      "execution_count": null,
      "outputs": [
        {
          "output_type": "execute_result",
          "data": {
            "text/plain": [
              "tensor([0.1925, 0.1426, 0.2351, 0.1426, 0.2872])"
            ]
          },
          "metadata": {},
          "execution_count": 36
        }
      ]
    },
    {
      "cell_type": "code",
      "source": [
        "torch.softmax(torch.tensor([0.1, -0.2, 0.3, -0.2, 0.5])*8, dim=-1) # gets too peaky, converges to one-hot"
      ],
      "metadata": {
        "colab": {
          "base_uri": "https://localhost:8080/"
        },
        "id": "Mpt8569BB9_f",
        "outputId": "382865f6-341b-423e-f00b-e27ed40a67ac"
      },
      "execution_count": null,
      "outputs": [
        {
          "output_type": "execute_result",
          "data": {
            "text/plain": [
              "tensor([0.0326, 0.0030, 0.1615, 0.0030, 0.8000])"
            ]
          },
          "metadata": {},
          "execution_count": 37
        }
      ]
    },
    {
      "cell_type": "code",
      "source": [
        "class LayerNorm1d: # (used to be BatchNorm1d)\n",
        "\n",
        "  def __init__(self, dim, eps=1e-5, momentum=0.1):\n",
        "    self.eps = eps\n",
        "    self.gamma = torch.ones(dim)\n",
        "    self.beta = torch.zeros(dim)\n",
        "\n",
        "  def __call__(self, x):\n",
        "    # calculate the forward pass\n",
        "    xmean = x.mean(1, keepdim=True) # batch mean\n",
        "    xvar = x.var(1, keepdim=True) # batch variance\n",
        "    xhat = (x - xmean) / torch.sqrt(xvar + self.eps) # normalize to unit variance\n",
        "    self.out = self.gamma * xhat + self.beta\n",
        "    return self.out\n",
        "\n",
        "  def parameters(self):\n",
        "    return [self.gamma, self.beta]\n",
        "\n",
        "torch.manual_seed(1337)\n",
        "module = LayerNorm1d(100)\n",
        "x = torch.randn(32, 100) # batch size 32 of 100-dimensional vectors\n",
        "x = module(x)\n",
        "x.shape"
      ],
      "metadata": {
        "colab": {
          "base_uri": "https://localhost:8080/"
        },
        "id": "2Num7sX9CKOH",
        "outputId": "1d6ebe98-0bfb-4c77-cdc9-7d7c8617095a"
      },
      "execution_count": null,
      "outputs": [
        {
          "output_type": "execute_result",
          "data": {
            "text/plain": [
              "torch.Size([32, 100])"
            ]
          },
          "metadata": {},
          "execution_count": 38
        }
      ]
    },
    {
      "cell_type": "code",
      "source": [
        "x[:,0].mean(), x[:,0].std() # mean,std of one feature across all batch inputs"
      ],
      "metadata": {
        "colab": {
          "base_uri": "https://localhost:8080/"
        },
        "id": "633T2cmnW1uk",
        "outputId": "c06a648e-ad9b-4001-964b-f0c1c03dae0a"
      },
      "execution_count": null,
      "outputs": [
        {
          "output_type": "execute_result",
          "data": {
            "text/plain": [
              "(tensor(0.1469), tensor(0.8803))"
            ]
          },
          "metadata": {},
          "execution_count": 39
        }
      ]
    },
    {
      "cell_type": "code",
      "source": [
        "x[0,:].mean(), x[0,:].std() # mean,std of a single input from the batch, of its features"
      ],
      "metadata": {
        "colab": {
          "base_uri": "https://localhost:8080/"
        },
        "id": "LN9cK9BoXCYb",
        "outputId": "e18ab1b2-8b7f-40fd-a47c-906561d5995c"
      },
      "execution_count": null,
      "outputs": [
        {
          "output_type": "execute_result",
          "data": {
            "text/plain": [
              "(tensor(-9.5367e-09), tensor(1.0000))"
            ]
          },
          "metadata": {},
          "execution_count": 40
        }
      ]
    },
    {
      "cell_type": "code",
      "source": [
        "# French to English translation example:\n",
        "\n",
        "# <--------- ENCODE ------------------><--------------- DECODE ----------------->\n",
        "# les réseaux de neurones sont géniaux! <START> neural networks are awesome!<END>\n",
        "\n"
      ],
      "metadata": {
        "id": "dRJH6wM_XFfU"
      },
      "execution_count": null,
      "outputs": []
    },
    {
      "cell_type": "code",
      "source": [
        "import json\n",
        "\n",
        "# Opening JSON file\n",
        "f = open('classic_poems.json')\n",
        "\n",
        "# returns JSON object as\n",
        "# a dictionary\n",
        "text = ''\n",
        "data = json.load(f)\n",
        "for i in data:\n",
        "  if i['poet_id'] == 'pushkin':\n",
        "    text += i['content']\n",
        "f.close()\n",
        "print(len(text))"
      ],
      "metadata": {
        "colab": {
          "base_uri": "https://localhost:8080/"
        },
        "id": "McG2J40cWWDs",
        "outputId": "2f0d5249-5284-489b-9b9c-842379e653fa"
      },
      "execution_count": 11,
      "outputs": [
        {
          "output_type": "stream",
          "name": "stdout",
          "text": [
            "602127\n"
          ]
        }
      ]
    },
    {
      "cell_type": "markdown",
      "source": [
        "### Full finished code, for reference\n",
        "\n",
        "You may want to refer directly to the git repo instead though."
      ],
      "metadata": {
        "id": "ZcvKeBXoZFOY"
      }
    },
    {
      "cell_type": "code",
      "source": [
        "import torch\n",
        "import torch.nn as nn\n",
        "from torch.nn import functional as F\n",
        "\n",
        "# hyperparameters\n",
        "batch_size = 16 # how many independent sequences will we process in parallel?\n",
        "block_size = 32 # what is the maximum context length for predictions?\n",
        "max_iters = 10000\n",
        "eval_interval = 100\n",
        "learning_rate = 1e-3\n",
        "device = 'cuda' if torch.cuda.is_available() else 'cpu'\n",
        "print(device)\n",
        "eval_iters = 200\n",
        "n_embd = 64\n",
        "n_head = 4\n",
        "n_layer = 4\n",
        "dropout = 0.1\n",
        "# ------------\n",
        "\n",
        "torch.manual_seed(1337)\n",
        "\n",
        "# # wget https://raw.githubusercontent.com/karpathy/char-rnn/master/data/tinyshakespeare/input.txt\n",
        "# with open('input.txt', 'r', encoding='utf-8') as f:\n",
        "#     text = f.read()\n",
        "\n",
        "# import csv\n",
        "# import sys\n",
        "# csv.field_size_limit(sys.maxsize)\n",
        "# text = ''\n",
        "# with open('poems.csv') as csv_file:\n",
        "#     csv_reader = csv.reader(csv_file, delimiter=',')\n",
        "#     line_count = 0\n",
        "#     for row in csv_reader:\n",
        "#         if line_count == 0:\n",
        "#             print(f'Column names are {\", \".join(row)}')\n",
        "#             line_count += 1\n",
        "#         else:\n",
        "#             text += row[2]\n",
        "#             line_count += 1\n",
        "#     print(f'Processed {line_count} lines.')\n",
        "\n",
        "import json\n",
        "\n",
        "# Opening JSON file\n",
        "f = open('classic_poems.json')\n",
        "\n",
        "# returns JSON object as\n",
        "# a dictionary\n",
        "text = ''\n",
        "data = json.load(f)\n",
        "for i in data:\n",
        "  if i['poet_id'] == 'pushkin':\n",
        "    text += i['content'] + '\\n'\n",
        "f.close()\n",
        "\n",
        "\n",
        "\n",
        "# here are all the unique characters that occur in this text\n",
        "chars = sorted(list(set(text)))\n",
        "vocab_size = len(chars)\n",
        "# create a mapping from characters to integers\n",
        "stoi = { ch:i for i,ch in enumerate(chars) }\n",
        "itos = { i:ch for i,ch in enumerate(chars) }\n",
        "encode = lambda s: [stoi[c] for c in s] # encoder: take a string, output a list of integers\n",
        "decode = lambda l: ''.join([itos[i] for i in l]) # decoder: take a list of integers, output a string\n",
        "\n",
        "# Train and test splits\n",
        "data = torch.tensor(encode(text), dtype=torch.long)\n",
        "n = int(0.9*len(data)) # first 90% will be train, rest val\n",
        "train_data = data[:n]\n",
        "val_data = data[n:]\n",
        "\n",
        "# data loading\n",
        "def get_batch(split):\n",
        "    # generate a small batch of data of inputs x and targets y\n",
        "    data = train_data if split == 'train' else val_data\n",
        "    ix = torch.randint(len(data) - block_size, (batch_size,))\n",
        "    x = torch.stack([data[i:i+block_size] for i in ix])\n",
        "    y = torch.stack([data[i+1:i+block_size+1] for i in ix])\n",
        "    x, y = x.to(device), y.to(device)\n",
        "    return x, y\n",
        "\n",
        "@torch.no_grad()\n",
        "def estimate_loss():\n",
        "    out = {}\n",
        "    model.eval()\n",
        "    for split in ['train', 'val']:\n",
        "        losses = torch.zeros(eval_iters)\n",
        "        for k in range(eval_iters):\n",
        "            X, Y = get_batch(split)\n",
        "            logits, loss = model(X, Y)\n",
        "            losses[k] = loss.item()\n",
        "        out[split] = losses.mean()\n",
        "    model.train()\n",
        "    return out\n",
        "\n",
        "class Head(nn.Module):\n",
        "    \"\"\" one head of self-attention \"\"\"\n",
        "\n",
        "    def __init__(self, head_size):\n",
        "        super().__init__()\n",
        "        self.key = nn.Linear(n_embd, head_size, bias=False)\n",
        "        self.query = nn.Linear(n_embd, head_size, bias=False)\n",
        "        self.value = nn.Linear(n_embd, head_size, bias=False)\n",
        "        self.register_buffer('tril', torch.tril(torch.ones(block_size, block_size)))\n",
        "\n",
        "        self.dropout = nn.Dropout(dropout)\n",
        "\n",
        "    def forward(self, x):\n",
        "        B,T,C = x.shape\n",
        "        k = self.key(x)   # (B,T,C)\n",
        "        q = self.query(x) # (B,T,C)\n",
        "        # compute attention scores (\"affinities\")\n",
        "        wei = q @ k.transpose(-2,-1) * C**-0.5 # (B, T, C) @ (B, C, T) -> (B, T, T)\n",
        "        wei = wei.masked_fill(self.tril[:T, :T] == 0, float('-inf')) # (B, T, T)\n",
        "        wei = F.softmax(wei, dim=-1) # (B, T, T)\n",
        "        wei = self.dropout(wei)\n",
        "        # perform the weighted aggregation of the values\n",
        "        v = self.value(x) # (B,T,C)\n",
        "        out = wei @ v # (B, T, T) @ (B, T, C) -> (B, T, C)\n",
        "        return out\n",
        "\n",
        "class MultiHeadAttention(nn.Module):\n",
        "    \"\"\" multiple heads of self-attention in parallel \"\"\"\n",
        "\n",
        "    def __init__(self, num_heads, head_size):\n",
        "        super().__init__()\n",
        "        self.heads = nn.ModuleList([Head(head_size) for _ in range(num_heads)])\n",
        "        self.proj = nn.Linear(n_embd, n_embd)\n",
        "        self.dropout = nn.Dropout(dropout)\n",
        "\n",
        "    def forward(self, x):\n",
        "        out = torch.cat([h(x) for h in self.heads], dim=-1)\n",
        "        out = self.dropout(self.proj(out))\n",
        "        return out\n",
        "\n",
        "class FeedFoward(nn.Module):\n",
        "    \"\"\" a simple linear layer followed by a non-linearity \"\"\"\n",
        "\n",
        "    def __init__(self, n_embd):\n",
        "        super().__init__()\n",
        "        self.net = nn.Sequential(\n",
        "            nn.Linear(n_embd, 4 * n_embd),\n",
        "            nn.ReLU(),\n",
        "            nn.Linear(4 * n_embd, n_embd),\n",
        "            nn.Dropout(dropout),\n",
        "        )\n",
        "\n",
        "    def forward(self, x):\n",
        "        return self.net(x)\n",
        "\n",
        "class Block(nn.Module):\n",
        "    \"\"\" Transformer block: communication followed by computation \"\"\"\n",
        "\n",
        "    def __init__(self, n_embd, n_head):\n",
        "        # n_embd: embedding dimension, n_head: the number of heads we'd like\n",
        "        super().__init__()\n",
        "        head_size = n_embd // n_head\n",
        "        self.sa = MultiHeadAttention(n_head, head_size)\n",
        "        self.ffwd = FeedFoward(n_embd)\n",
        "        self.ln1 = nn.LayerNorm(n_embd)\n",
        "        self.ln2 = nn.LayerNorm(n_embd)\n",
        "\n",
        "    def forward(self, x):\n",
        "        x = x + self.sa(self.ln1(x))\n",
        "        x = x + self.ffwd(self.ln2(x))\n",
        "        return x\n",
        "\n",
        "# super simple bigram model\n",
        "class BigramLanguageModel(nn.Module):\n",
        "\n",
        "    def __init__(self):\n",
        "        super().__init__()\n",
        "        # each token directly reads off the logits for the next token from a lookup table\n",
        "        self.token_embedding_table = nn.Embedding(vocab_size, n_embd)\n",
        "        self.position_embedding_table = nn.Embedding(block_size, n_embd)\n",
        "        self.blocks = nn.Sequential(*[Block(n_embd, n_head=n_head) for _ in range(n_layer)])\n",
        "        self.ln_f = nn.LayerNorm(n_embd) # final layer norm\n",
        "        self.lm_head = nn.Linear(n_embd, vocab_size)\n",
        "\n",
        "    def forward(self, idx, targets=None):\n",
        "        B, T = idx.shape\n",
        "\n",
        "        # idx and targets are both (B,T) tensor of integers\n",
        "        tok_emb = self.token_embedding_table(idx) # (B,T,C)\n",
        "        pos_emb = self.position_embedding_table(torch.arange(T, device=device)) # (T,C)\n",
        "        x = tok_emb + pos_emb # (B,T,C)\n",
        "        x = self.blocks(x) # (B,T,C)\n",
        "        x = self.ln_f(x) # (B,T,C)\n",
        "        logits = self.lm_head(x) # (B,T,vocab_size)\n",
        "\n",
        "        if targets is None:\n",
        "            loss = None\n",
        "        else:\n",
        "            B, T, C = logits.shape\n",
        "            logits = logits.view(B*T, C)\n",
        "            targets = targets.view(B*T)\n",
        "            loss = F.cross_entropy(logits, targets)\n",
        "\n",
        "        return logits, loss\n",
        "\n",
        "    def generate(self, idx, max_new_tokens):\n",
        "        # idx is (B, T) array of indices in the current context\n",
        "        for _ in range(max_new_tokens):\n",
        "            # crop idx to the last block_size tokens\n",
        "            idx_cond = idx[:, -block_size:]\n",
        "            # get the predictions\n",
        "            logits, loss = self(idx_cond)\n",
        "            # focus only on the last time step\n",
        "            logits = logits[:, -1, :] # becomes (B, C)\n",
        "            # apply softmax to get probabilities\n",
        "            probs = F.softmax(logits, dim=-1) # (B, C)\n",
        "            # sample from the distribution\n",
        "            idx_next = torch.multinomial(probs, num_samples=1) # (B, 1)\n",
        "            # append sampled index to the running sequence\n",
        "            idx = torch.cat((idx, idx_next), dim=1) # (B, T+1)\n",
        "        return idx\n",
        "\n",
        "model = BigramLanguageModel()\n",
        "m = model.to(device)\n",
        "# print the number of parameters in the model\n",
        "print(sum(p.numel() for p in m.parameters())/1e6, 'M parameters')\n",
        "\n",
        "# create a PyTorch optimizer\n",
        "optimizer = torch.optim.AdamW(model.parameters(), lr=learning_rate)\n",
        "\n",
        "for iter in range(max_iters):\n",
        "\n",
        "    # every once in a while evaluate the loss on train and val sets\n",
        "    if iter % eval_interval == 0 or iter == max_iters - 1:\n",
        "        losses = estimate_loss()\n",
        "        print(f\"step {iter}: train loss {losses['train']:.4f}, val loss {losses['val']:.4f}\")\n",
        "\n",
        "    # sample a batch of data\n",
        "    xb, yb = get_batch('train')\n",
        "\n",
        "    # evaluate the loss\n",
        "    logits, loss = model(xb, yb)\n",
        "    optimizer.zero_grad(set_to_none=True)\n",
        "    loss.backward()\n",
        "    optimizer.step()\n",
        "\n",
        "# generate from the model\n",
        "context = torch.zeros((1, 1), dtype=torch.long, device=device)\n",
        "print(decode(m.generate(context, max_new_tokens=2000)[0].tolist()))\n"
      ],
      "metadata": {
        "colab": {
          "base_uri": "https://localhost:8080/"
        },
        "id": "hoelkOrFY8bN",
        "outputId": "b7b53433-29be-4727-db86-ddf875e7f14d"
      },
      "execution_count": 9,
      "outputs": [
        {
          "output_type": "stream",
          "name": "stdout",
          "text": [
            "cuda\n",
            "0.221855 M parameters\n",
            "step 0: train loss 5.2234, val loss 5.2251\n",
            "step 100: train loss 2.9236, val loss 2.9014\n",
            "step 200: train loss 2.7622, val loss 2.7701\n",
            "step 300: train loss 2.6843, val loss 2.6958\n",
            "step 400: train loss 2.6451, val loss 2.6707\n",
            "step 500: train loss 2.6101, val loss 2.6301\n",
            "step 600: train loss 2.5743, val loss 2.6111\n",
            "step 700: train loss 2.5496, val loss 2.5835\n",
            "step 800: train loss 2.5255, val loss 2.5531\n",
            "step 900: train loss 2.4947, val loss 2.5223\n",
            "step 1000: train loss 2.4773, val loss 2.5093\n",
            "step 1100: train loss 2.4634, val loss 2.5077\n",
            "step 1200: train loss 2.4386, val loss 2.4839\n",
            "step 1300: train loss 2.4258, val loss 2.4768\n",
            "step 1400: train loss 2.4045, val loss 2.4455\n",
            "step 1500: train loss 2.3820, val loss 2.4407\n",
            "step 1600: train loss 2.3714, val loss 2.4277\n",
            "step 1700: train loss 2.3556, val loss 2.4103\n",
            "step 1800: train loss 2.3522, val loss 2.4087\n",
            "step 1900: train loss 2.3352, val loss 2.3981\n",
            "step 2000: train loss 2.3155, val loss 2.3848\n",
            "step 2100: train loss 2.3048, val loss 2.3716\n",
            "step 2200: train loss 2.2954, val loss 2.3646\n",
            "step 2300: train loss 2.2811, val loss 2.3537\n",
            "step 2400: train loss 2.2763, val loss 2.3424\n",
            "step 2500: train loss 2.2635, val loss 2.3350\n",
            "step 2600: train loss 2.2532, val loss 2.3316\n",
            "step 2700: train loss 2.2472, val loss 2.3269\n",
            "step 2800: train loss 2.2282, val loss 2.3224\n",
            "step 2900: train loss 2.2472, val loss 2.3246\n",
            "step 3000: train loss 2.2221, val loss 2.3097\n",
            "step 3100: train loss 2.2185, val loss 2.2982\n",
            "step 3200: train loss 2.2058, val loss 2.2997\n",
            "step 3300: train loss 2.1999, val loss 2.2912\n",
            "step 3400: train loss 2.1959, val loss 2.2825\n",
            "step 3500: train loss 2.1935, val loss 2.2848\n",
            "step 3600: train loss 2.1865, val loss 2.2719\n",
            "step 3700: train loss 2.1804, val loss 2.2787\n",
            "step 3800: train loss 2.1696, val loss 2.2696\n",
            "step 3900: train loss 2.1657, val loss 2.2490\n",
            "step 4000: train loss 2.1520, val loss 2.2497\n",
            "step 4100: train loss 2.1579, val loss 2.2725\n",
            "step 4200: train loss 2.1433, val loss 2.2497\n",
            "step 4300: train loss 2.1532, val loss 2.2442\n",
            "step 4400: train loss 2.1442, val loss 2.2462\n",
            "step 4500: train loss 2.1267, val loss 2.2351\n",
            "step 4600: train loss 2.1277, val loss 2.2355\n",
            "step 4700: train loss 2.1289, val loss 2.2299\n",
            "step 4800: train loss 2.1222, val loss 2.2265\n",
            "step 4900: train loss 2.1216, val loss 2.2252\n",
            "step 5000: train loss 2.1084, val loss 2.2244\n",
            "step 5100: train loss 2.1154, val loss 2.2129\n",
            "step 5200: train loss 2.1108, val loss 2.2204\n",
            "step 5300: train loss 2.0999, val loss 2.2199\n",
            "step 5400: train loss 2.0926, val loss 2.2100\n",
            "step 5500: train loss 2.0887, val loss 2.2100\n",
            "step 5600: train loss 2.0842, val loss 2.2012\n",
            "step 5700: train loss 2.0928, val loss 2.2032\n",
            "step 5800: train loss 2.0706, val loss 2.2054\n",
            "step 5900: train loss 2.0815, val loss 2.2033\n",
            "step 6000: train loss 2.0854, val loss 2.1991\n",
            "step 6100: train loss 2.0676, val loss 2.1979\n",
            "step 6200: train loss 2.0710, val loss 2.2043\n",
            "step 6300: train loss 2.0690, val loss 2.1963\n",
            "step 6400: train loss 2.0500, val loss 2.1975\n",
            "step 6500: train loss 2.0602, val loss 2.1838\n",
            "step 6600: train loss 2.0584, val loss 2.1808\n",
            "step 6700: train loss 2.0386, val loss 2.1747\n",
            "step 6800: train loss 2.0469, val loss 2.1749\n",
            "step 6900: train loss 2.0475, val loss 2.1747\n",
            "step 7000: train loss 2.0393, val loss 2.1771\n",
            "step 7100: train loss 2.0503, val loss 2.1798\n",
            "step 7200: train loss 2.0344, val loss 2.1731\n",
            "step 7300: train loss 2.0350, val loss 2.1607\n",
            "step 7400: train loss 2.0319, val loss 2.1828\n",
            "step 7500: train loss 2.0217, val loss 2.1651\n",
            "step 7600: train loss 2.0276, val loss 2.1600\n",
            "step 7700: train loss 2.0198, val loss 2.1621\n",
            "step 7800: train loss 2.0238, val loss 2.1617\n",
            "step 7900: train loss 2.0195, val loss 2.1623\n",
            "step 8000: train loss 2.0068, val loss 2.1594\n",
            "step 8100: train loss 2.0193, val loss 2.1526\n",
            "step 8200: train loss 2.0093, val loss 2.1584\n",
            "step 8300: train loss 2.0153, val loss 2.1610\n",
            "step 8400: train loss 2.0052, val loss 2.1490\n",
            "step 8500: train loss 2.0087, val loss 2.1443\n",
            "step 8600: train loss 2.0129, val loss 2.1397\n",
            "step 8700: train loss 1.9998, val loss 2.1582\n",
            "step 8800: train loss 2.0019, val loss 2.1444\n",
            "step 8900: train loss 2.0047, val loss 2.1497\n",
            "step 9000: train loss 1.9932, val loss 2.1461\n",
            "step 9100: train loss 2.0016, val loss 2.1450\n",
            "step 9200: train loss 1.9890, val loss 2.1489\n",
            "step 9300: train loss 1.9997, val loss 2.1541\n",
            "step 9400: train loss 1.9901, val loss 2.1400\n",
            "step 9500: train loss 1.9851, val loss 2.1463\n",
            "step 9600: train loss 1.9835, val loss 2.1401\n",
            "step 9700: train loss 1.9920, val loss 2.1428\n",
            "step 9800: train loss 1.9791, val loss 2.1422\n",
            "step 9900: train loss 1.9729, val loss 2.1419\n",
            "step 9999: train loss 1.9672, val loss 2.1447\n",
            "\n",
            "В юностная его.\n",
            "Но грозья терпода Эдушав;\n",
            "И слепенный селосары дух дрежа:\n",
            "Как знамокомчатлев сердца негем,\n",
            "И, х бел ядту, жели\n",
            "И \n",
            "Нет, цьрез\n",
            "Мак не подъноской клесностный,\n",
            "Трише мечка зевфорны рукам,\n",
            "Свой милыми обользы я состок\n",
            "Все проседет наход братарицнут,\n",
            "Напитаться он страет сибей,\n",
            "Не копятычиетерь певенты\n",
            "Уверчогнуливых рекопами страсноми,\n",
            "А цурной угрушия поден),\n",
            "И смотратию и крылай сил.\n",
            "Изы двизинице, движу ней молений\n",
            "Светры имелона?\n",
            "Вы чарец артетном сокрому…\n",
            "Уст, горечавой святои изоваромея,\n",
            "Тонец и пистую ню по рукой\n",
            "И среди ствасил пылей\n",
            "И пирог над етмому чужду\n",
            "Ковали небтеродный шугах,.\n",
            "И и курчавали надездучной нес и насладые трай крас.\n",
            "Но в утреклась я, на гремен бы <студец\n",
            "И думной надена сона!\n",
            "Склоненный тельной живает\n",
            "Сеет где явенный,\n",
            "Сстраетный Луни, на бавницелей.\n",
            "Вести стих.\n",
            "Она стестрой. Живеннику, звешенной новерька\n",
            "Хнудит и слезому –\n",
            "По осы втрасив, простиха,\n",
            "Сыхонеренлей дальный?\n",
            "Градстов,\n",
            "В тихий твой родного света,\n",
            "Вольрами Свящий зовуку\n",
            "Замитый нечправу лесуета!\n",
            "Он лез среблачным наварит,\n",
            "Друг бег он Браснаватенье,\n",
            "Вкой кражистый твой прохоза\n",
            "При, презят шечестаниев.\n",
            "\"Ты\n",
            "Напет, лилам – как и ты венец.\n",
            "На ты пожарых,\n",
            "И проласти и трочала\n",
            "И вкем позная Ремав\n",
            "Волгканяла, премследнийся,\n",
            "Споедь – ты баки, вы празот.\n",
            "Они почку, вашзгольный легкалей.\n",
            "Сходающелы, Эот твойной> сдавны.\n",
            "Станица-купите:\n",
            "* * *\n",
            "* * *\n",
            "\"*\n",
            "\" Ф руссужеций,\n",
            "Вазаркий превдобрашный восенниг,\n",
            "Оконе\n",
            "Бравнова стои; и тих грораз\n",
            "Набрат миру Трептуленный мои,\n",
            "Днойлиже [вздон бледных глупестя,\n",
            "Столести и росы,\n",
            "В уме оконя повотрабенныяете,\n",
            "Заквет Фи крикий\n",
            "Обол, бытолки;\n",
            "Сталострая стихой\n",
            "Полящей, какука нименной,\n",
            "Кто сечным смолов!\n",
            "Хрательнуем теранья.\n",
            "С и смею о не замрет.\n",
            "Рас и в счастливым поэт.\n",
            "Сибая и тишивый рощиет на выстороной\n",
            "И и разободх блемлет едимал ни прихлет..\n",
            "Сташа грознительны челтен.\n",
            "Уж твоей роды… е'Вкор> погийстул сойданья;\n",
            "И Юный я бед себя ты ты напого должен,\n",
            "На ченал, с истал достить я вы,\n",
            "Печальский яном\n",
            "И печаясь привывы забура?\n",
            "И сдему я далькуссмел\n"
          ]
        }
      ]
    },
    {
      "cell_type": "code",
      "source": [
        "for iter in range(max_iters):\n",
        "\n",
        "    # every once in a while evaluate the loss on train and val sets\n",
        "    if iter % eval_interval == 0 or iter == max_iters - 1:\n",
        "        losses = estimate_loss()\n",
        "        print(f\"step {iter}: train loss {losses['train']:.4f}, val loss {losses['val']:.4f}\")\n",
        "\n",
        "    # sample a batch of data\n",
        "    xb, yb = get_batch('train')\n",
        "\n",
        "    # evaluate the loss\n",
        "    logits, loss = model(xb, yb)\n",
        "    optimizer.zero_grad(set_to_none=True)\n",
        "    loss.backward()\n",
        "    optimizer.step()"
      ],
      "metadata": {
        "colab": {
          "base_uri": "https://localhost:8080/"
        },
        "id": "6cC9ZoO02bkN",
        "outputId": "13012a77-a44e-4cc1-8bdb-d9f8c26d07d0"
      },
      "execution_count": 10,
      "outputs": [
        {
          "output_type": "stream",
          "name": "stdout",
          "text": [
            "step 0: train loss 1.9768, val loss 2.1500\n",
            "step 100: train loss 1.9741, val loss 2.1219\n",
            "step 200: train loss 1.9691, val loss 2.1314\n",
            "step 300: train loss 1.9796, val loss 2.1326\n",
            "step 400: train loss 1.9694, val loss 2.1282\n",
            "step 500: train loss 1.9751, val loss 2.1310\n",
            "step 600: train loss 1.9682, val loss 2.1194\n",
            "step 700: train loss 1.9637, val loss 2.1232\n",
            "step 800: train loss 1.9675, val loss 2.1326\n",
            "step 900: train loss 1.9570, val loss 2.1273\n",
            "step 1000: train loss 1.9644, val loss 2.1302\n",
            "step 1100: train loss 1.9710, val loss 2.1294\n",
            "step 1200: train loss 1.9667, val loss 2.1186\n",
            "step 1300: train loss 1.9600, val loss 2.1247\n",
            "step 1400: train loss 1.9697, val loss 2.1307\n",
            "step 1500: train loss 1.9490, val loss 2.1048\n",
            "step 1600: train loss 1.9590, val loss 2.1150\n",
            "step 1700: train loss 1.9438, val loss 2.1220\n",
            "step 1800: train loss 1.9413, val loss 2.1257\n",
            "step 1900: train loss 1.9466, val loss 2.1317\n",
            "step 2000: train loss 1.9476, val loss 2.1151\n",
            "step 2100: train loss 1.9522, val loss 2.1194\n",
            "step 2200: train loss 1.9477, val loss 2.1178\n",
            "step 2300: train loss 1.9500, val loss 2.1056\n",
            "step 2400: train loss 1.9487, val loss 2.1125\n",
            "step 2500: train loss 1.9393, val loss 2.1143\n",
            "step 2600: train loss 1.9397, val loss 2.1159\n",
            "step 2700: train loss 1.9320, val loss 2.1174\n",
            "step 2800: train loss 1.9492, val loss 2.1118\n",
            "step 2900: train loss 1.9403, val loss 2.0959\n",
            "step 3000: train loss 1.9342, val loss 2.1156\n",
            "step 3100: train loss 1.9327, val loss 2.1017\n",
            "step 3200: train loss 1.9281, val loss 2.0977\n",
            "step 3300: train loss 1.9367, val loss 2.1149\n",
            "step 3400: train loss 1.9271, val loss 2.1051\n",
            "step 3500: train loss 1.9327, val loss 2.1158\n",
            "step 3600: train loss 1.9364, val loss 2.1001\n",
            "step 3700: train loss 1.9230, val loss 2.1000\n",
            "step 3800: train loss 1.9285, val loss 2.1019\n",
            "step 3900: train loss 1.9267, val loss 2.1035\n",
            "step 4000: train loss 1.9252, val loss 2.1063\n",
            "step 4100: train loss 1.9254, val loss 2.1001\n",
            "step 4200: train loss 1.9183, val loss 2.0904\n",
            "step 4300: train loss 1.9230, val loss 2.0928\n",
            "step 4400: train loss 1.9225, val loss 2.0927\n",
            "step 4500: train loss 1.9188, val loss 2.0907\n",
            "step 4600: train loss 1.9136, val loss 2.0857\n",
            "step 4700: train loss 1.9183, val loss 2.0943\n",
            "step 4800: train loss 1.9167, val loss 2.0891\n",
            "step 4900: train loss 1.9229, val loss 2.0858\n",
            "step 5000: train loss 1.9244, val loss 2.0880\n",
            "step 5100: train loss 1.9135, val loss 2.1062\n",
            "step 5200: train loss 1.9172, val loss 2.0976\n",
            "step 5300: train loss 1.9130, val loss 2.0959\n",
            "step 5400: train loss 1.9085, val loss 2.0797\n",
            "step 5500: train loss 1.9100, val loss 2.0943\n",
            "step 5600: train loss 1.9112, val loss 2.0935\n",
            "step 5700: train loss 1.9115, val loss 2.0874\n",
            "step 5800: train loss 1.9062, val loss 2.0858\n",
            "step 5900: train loss 1.9066, val loss 2.0840\n",
            "step 6000: train loss 1.8991, val loss 2.0888\n",
            "step 6100: train loss 1.9024, val loss 2.0986\n",
            "step 6200: train loss 1.9104, val loss 2.0882\n",
            "step 6300: train loss 1.9099, val loss 2.0810\n",
            "step 6400: train loss 1.9020, val loss 2.0844\n",
            "step 6500: train loss 1.9070, val loss 2.0949\n",
            "step 6600: train loss 1.9028, val loss 2.0888\n",
            "step 6700: train loss 1.9105, val loss 2.0846\n",
            "step 6800: train loss 1.9009, val loss 2.0780\n",
            "step 6900: train loss 1.8971, val loss 2.0839\n",
            "step 7000: train loss 1.8902, val loss 2.0829\n",
            "step 7100: train loss 1.8923, val loss 2.0809\n",
            "step 7200: train loss 1.8971, val loss 2.0896\n",
            "step 7300: train loss 1.8928, val loss 2.0979\n",
            "step 7400: train loss 1.8990, val loss 2.0763\n",
            "step 7500: train loss 1.8907, val loss 2.0751\n",
            "step 7600: train loss 1.8922, val loss 2.0682\n",
            "step 7700: train loss 1.8810, val loss 2.0767\n",
            "step 7800: train loss 1.8840, val loss 2.0811\n",
            "step 7900: train loss 1.8880, val loss 2.0712\n",
            "step 8000: train loss 1.8850, val loss 2.0764\n",
            "step 8100: train loss 1.8803, val loss 2.0867\n",
            "step 8200: train loss 1.8922, val loss 2.0768\n",
            "step 8300: train loss 1.8911, val loss 2.0835\n",
            "step 8400: train loss 1.8892, val loss 2.0734\n",
            "step 8500: train loss 1.8862, val loss 2.0836\n",
            "step 8600: train loss 1.8858, val loss 2.0787\n",
            "step 8700: train loss 1.8845, val loss 2.0818\n",
            "step 8800: train loss 1.8797, val loss 2.0696\n",
            "step 8900: train loss 1.8828, val loss 2.0835\n",
            "step 9000: train loss 1.8833, val loss 2.0732\n",
            "step 9100: train loss 1.8946, val loss 2.0909\n",
            "step 9200: train loss 1.8801, val loss 2.0706\n",
            "step 9300: train loss 1.8862, val loss 2.0777\n",
            "step 9400: train loss 1.8776, val loss 2.0607\n",
            "step 9500: train loss 1.8768, val loss 2.0736\n",
            "step 9600: train loss 1.8803, val loss 2.0734\n",
            "step 9700: train loss 1.8764, val loss 2.0627\n",
            "step 9800: train loss 1.8786, val loss 2.0649\n",
            "step 9900: train loss 1.8769, val loss 2.0729\n",
            "step 9999: train loss 1.8827, val loss 2.0731\n"
          ]
        }
      ]
    },
    {
      "cell_type": "code",
      "source": [
        "for iter in range(max_iters):\n",
        "\n",
        "    # every once in a while evaluate the loss on train and val sets\n",
        "    if iter % eval_interval == 0 or iter == max_iters - 1:\n",
        "        losses = estimate_loss()\n",
        "        print(f\"step {iter}: train loss {losses['train']:.4f}, val loss {losses['val']:.4f}\")\n",
        "\n",
        "    # sample a batch of data\n",
        "    xb, yb = get_batch('train')\n",
        "\n",
        "    # evaluate the loss\n",
        "    logits, loss = model(xb, yb)\n",
        "    optimizer.zero_grad(set_to_none=True)\n",
        "    loss.backward()\n",
        "    optimizer.step()"
      ],
      "metadata": {
        "colab": {
          "base_uri": "https://localhost:8080/"
        },
        "id": "Ltm_xPafW39P",
        "outputId": "11628552-9f43-46ce-d158-51b67684a539"
      },
      "execution_count": 12,
      "outputs": [
        {
          "output_type": "stream",
          "name": "stdout",
          "text": [
            "step 0: train loss 1.8759, val loss 2.0629\n",
            "step 100: train loss 1.8732, val loss 2.0579\n",
            "step 200: train loss 1.8754, val loss 2.0697\n",
            "step 300: train loss 1.8727, val loss 2.0701\n",
            "step 400: train loss 1.8791, val loss 2.0814\n",
            "step 500: train loss 1.8736, val loss 2.0597\n",
            "step 600: train loss 1.8737, val loss 2.0707\n",
            "step 700: train loss 1.8745, val loss 2.0661\n",
            "step 800: train loss 1.8754, val loss 2.0715\n",
            "step 900: train loss 1.8751, val loss 2.0718\n",
            "step 1000: train loss 1.8687, val loss 2.0604\n",
            "step 1100: train loss 1.8690, val loss 2.0574\n",
            "step 1200: train loss 1.8737, val loss 2.0683\n",
            "step 1300: train loss 1.8682, val loss 2.0592\n",
            "step 1400: train loss 1.8521, val loss 2.0585\n",
            "step 1500: train loss 1.8667, val loss 2.0550\n",
            "step 1600: train loss 1.8730, val loss 2.0611\n",
            "step 1700: train loss 1.8735, val loss 2.0519\n",
            "step 1800: train loss 1.8674, val loss 2.0502\n",
            "step 1900: train loss 1.8628, val loss 2.0525\n",
            "step 2000: train loss 1.8697, val loss 2.0500\n",
            "step 2100: train loss 1.8664, val loss 2.0630\n",
            "step 2200: train loss 1.8741, val loss 2.0636\n",
            "step 2300: train loss 1.8604, val loss 2.0586\n",
            "step 2400: train loss 1.8623, val loss 2.0708\n",
            "step 2500: train loss 1.8643, val loss 2.0417\n",
            "step 2600: train loss 1.8523, val loss 2.0459\n",
            "step 2700: train loss 1.8707, val loss 2.0658\n",
            "step 2800: train loss 1.8614, val loss 2.0596\n",
            "step 2900: train loss 1.8609, val loss 2.0537\n",
            "step 3000: train loss 1.8589, val loss 2.0543\n",
            "step 3100: train loss 1.8583, val loss 2.0494\n",
            "step 3200: train loss 1.8629, val loss 2.0432\n",
            "step 3300: train loss 1.8678, val loss 2.0479\n",
            "step 3400: train loss 1.8605, val loss 2.0490\n",
            "step 3500: train loss 1.8524, val loss 2.0537\n",
            "step 3600: train loss 1.8580, val loss 2.0593\n",
            "step 3700: train loss 1.8546, val loss 2.0521\n",
            "step 3800: train loss 1.8509, val loss 2.0620\n",
            "step 3900: train loss 1.8549, val loss 2.0644\n",
            "step 4000: train loss 1.8497, val loss 2.0608\n",
            "step 4100: train loss 1.8514, val loss 2.0531\n",
            "step 4200: train loss 1.8607, val loss 2.0541\n",
            "step 4300: train loss 1.8506, val loss 2.0456\n",
            "step 4400: train loss 1.8586, val loss 2.0626\n",
            "step 4500: train loss 1.8601, val loss 2.0528\n",
            "step 4600: train loss 1.8516, val loss 2.0411\n",
            "step 4700: train loss 1.8520, val loss 2.0455\n",
            "step 4800: train loss 1.8420, val loss 2.0506\n",
            "step 4900: train loss 1.8508, val loss 2.0473\n",
            "step 5000: train loss 1.8507, val loss 2.0512\n",
            "step 5100: train loss 1.8498, val loss 2.0556\n",
            "step 5200: train loss 1.8430, val loss 2.0468\n",
            "step 5300: train loss 1.8495, val loss 2.0375\n",
            "step 5400: train loss 1.8539, val loss 2.0476\n",
            "step 5500: train loss 1.8455, val loss 2.0471\n",
            "step 5600: train loss 1.8390, val loss 2.0575\n",
            "step 5700: train loss 1.8515, val loss 2.0550\n",
            "step 5800: train loss 1.8462, val loss 2.0479\n",
            "step 5900: train loss 1.8477, val loss 2.0525\n",
            "step 6000: train loss 1.8340, val loss 2.0489\n",
            "step 6100: train loss 1.8465, val loss 2.0490\n",
            "step 6200: train loss 1.8509, val loss 2.0542\n",
            "step 6300: train loss 1.8472, val loss 2.0465\n",
            "step 6400: train loss 1.8402, val loss 2.0464\n",
            "step 6500: train loss 1.8501, val loss 2.0369\n",
            "step 6600: train loss 1.8396, val loss 2.0463\n",
            "step 6700: train loss 1.8467, val loss 2.0553\n",
            "step 6800: train loss 1.8442, val loss 2.0402\n",
            "step 6900: train loss 1.8403, val loss 2.0407\n",
            "step 7000: train loss 1.8454, val loss 2.0588\n",
            "step 7100: train loss 1.8346, val loss 2.0397\n",
            "step 7200: train loss 1.8437, val loss 2.0466\n",
            "step 7300: train loss 1.8383, val loss 2.0308\n",
            "step 7400: train loss 1.8454, val loss 2.0456\n",
            "step 7500: train loss 1.8416, val loss 2.0448\n",
            "step 7600: train loss 1.8380, val loss 2.0474\n",
            "step 7700: train loss 1.8386, val loss 2.0463\n",
            "step 7800: train loss 1.8264, val loss 2.0358\n",
            "step 7900: train loss 1.8447, val loss 2.0499\n",
            "step 8000: train loss 1.8521, val loss 2.0415\n",
            "step 8100: train loss 1.8380, val loss 2.0542\n",
            "step 8200: train loss 1.8345, val loss 2.0491\n",
            "step 8300: train loss 1.8449, val loss 2.0442\n",
            "step 8400: train loss 1.8309, val loss 2.0411\n",
            "step 8500: train loss 1.8350, val loss 2.0368\n",
            "step 8600: train loss 1.8389, val loss 2.0491\n",
            "step 8700: train loss 1.8356, val loss 2.0424\n",
            "step 8800: train loss 1.8332, val loss 2.0409\n",
            "step 8900: train loss 1.8352, val loss 2.0463\n",
            "step 9000: train loss 1.8347, val loss 2.0353\n",
            "step 9100: train loss 1.8313, val loss 2.0443\n",
            "step 9200: train loss 1.8384, val loss 2.0451\n",
            "step 9300: train loss 1.8360, val loss 2.0390\n",
            "step 9400: train loss 1.8288, val loss 2.0469\n",
            "step 9500: train loss 1.8233, val loss 2.0431\n",
            "step 9600: train loss 1.8272, val loss 2.0429\n",
            "step 9700: train loss 1.8398, val loss 2.0464\n",
            "step 9800: train loss 1.8316, val loss 2.0544\n",
            "step 9900: train loss 1.8361, val loss 2.0407\n",
            "step 9999: train loss 1.8257, val loss 2.0372\n"
          ]
        }
      ]
    },
    {
      "cell_type": "code",
      "source": [
        "\n",
        "context = torch.zeros((1, 1), dtype=torch.long, device=device)\n",
        "print(decode(m.generate(context, max_new_tokens=2000)[0].tolist()))"
      ],
      "metadata": {
        "colab": {
          "base_uri": "https://localhost:8080/"
        },
        "id": "ZeC2RwYGO78N",
        "outputId": "ba50030d-1e24-47a3-c7a1-408213566748"
      },
      "execution_count": 14,
      "outputs": [
        {
          "output_type": "stream",
          "name": "stdout",
          "text": [
            "\n",
            "Нет, ты покороны бесу, поверены,\n",
            "Где тихий в гар обходит мои\n",
            "Лодна, когда бывало.\n",
            "В душало, с Особойной поэт.\n",
            "Не волнень, блажена рукой – проврат наши лиится…\n",
            "Как расспа не праводница.] Лумец!\n",
            "Не мирные мощил отчали.\n",
            "С жизни склонят;\n",
            "Но а глаз… вдруг, огнь может ум пишуть;\n",
            "В долгому властью долту тропка твои\n",
            "Так под небого рукий,\n",
            "Презреч пророманьему твел,\n",
            "Альма мне преживать написы и в кусокое:\n",
            "Стихом и бедутственный покруг меня кост.\n",
            "Стихой младою, морсок пустались:\n",
            "Да как, он, мамо ночею; дружба на трепущие вечны —\n",
            "Потом глуске любовые,\n",
            "В ощих душе в лей феизни их уночи соновей\n",
            "И тяро отрою, взор цветерь небо стаешь? —\n",
            "– Прокрываешь я код собряца!\n",
            "Минуть и день, вверед Фаври возьми кенная стени?\n",
            "Что сам колько кипленною темной\n",
            "Гоапить ж] натайкие жизни.\n",
            "Эрота юдил, Даменник протуной,\n",
            "Милый притых, за три, темной\n",
            "Налиде брань;\n",
            "Сыпь песницу стобразу,\n",
            "Прозвещавшись у ам он\n",
            "Свирает, мирую данкельно\n",
            "Он притвидет и прах, одно.\n",
            "Жендачей твой отрадною: Беспроцерцури\n",
            "Наш и вкусай мученье сердца молчави!\n",
            "Зародит меня не от храбы\n",
            "Встором цви, бледный да его гибрия,\n",
            "И тригом их в суре жизнь уерналей\n",
            "И щелом выслется соебщенный] прочьет;\n",
            "Но сон милый какты нагода.\n",
            "Котой упис вас волнуливые над сувидушь я\n",
            "Мечтанн! я тем олей в дали,\n",
            "Не и шою те, томлется может…\n",
            "Бывая, обычай, то наконьку;\n",
            "Невиденчикой день мои ж либок:\n",
            "Где вмии проснат плесни, я жду набложный дум,\n",
            "И стов простились сохру и плещутся\n",
            "* * чем, в дохновеньи главой крлисья и нежилой твоя хладной;\n",
            "Степлать: хвад ли навили\n",
            "Прадев денине очаря,\n",
            "Им девут чегое видений огружки,\n",
            "Вновать водушам пало, молчаливой,\n",
            "Но царис-денинки? воды, сощи брана\n",
            "Дадыми свысторовновать\n",
            "Державицый царь. А закрик глубока,\n",
            "Не жизнил \n",
            "Утражебу томной,\n",
            "[Меня] морец отрада>и] смерту сладку,\n",
            "В Эашу, и дерею дражеву\n",
            "Своим пождает его седой ним.\n",
            "Прода мукнулить, оставеж я нет воды!\n",
            "Провы молеил,\n",
            "Вново мне ссказлилой.\n",
            "На тешине празной, в на янован\n",
            "Стиханьем в Воешь в зайду счастливый для тьми\n",
            "С ней бесстыда кенец любовь!\n",
            "Теплюсь в зарею\n",
            "На ней ми\n"
          ]
        }
      ]
    },
    {
      "cell_type": "code",
      "source": [],
      "metadata": {
        "id": "fjjvMifYZf7x"
      },
      "execution_count": null,
      "outputs": []
    }
  ]
}